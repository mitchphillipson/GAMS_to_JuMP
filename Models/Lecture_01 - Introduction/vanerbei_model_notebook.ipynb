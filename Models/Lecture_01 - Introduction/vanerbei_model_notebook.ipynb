{
 "cells": [
  {
   "attachments": {},
   "cell_type": "markdown",
   "metadata": {},
   "source": [
    "# Vanderbeis Local Warming Model\n",
    "\n",
    "For this to solve, you'll need to install the Clp package. Canvas has directions for installing packages\n"
   ]
  },
  {
   "cell_type": "code",
   "execution_count": null,
   "metadata": {},
   "outputs": [],
   "source": [
    "using JuMP\n",
    "using Clp\n",
    "using GamsStructure\n",
    "using NamedArrays"
   ]
  },
  {
   "attachments": {},
   "cell_type": "markdown",
   "metadata": {},
   "source": [
    "Load the data"
   ]
  },
  {
   "cell_type": "code",
   "execution_count": 2,
   "metadata": {},
   "outputs": [
    {
     "data": {
      "text/plain": []
     },
     "metadata": {},
     "output_type": "display_data"
    },
    {
     "name": "stdout",
     "output_type": "stream",
     "text": [
      "Sets\n",
      "\n",
      "d => Dates for which we have temperature reports\n",
      "\n",
      "Parameters\n",
      "\n",
      "ave => (:d,) => Average temperatures\n",
      "day => (:d,) => Assignment of dates to days\n"
     ]
    }
   ],
   "source": [
    "GU = load_universe(\"julia_data\")"
   ]
  },
  {
   "attachments": {},
   "cell_type": "markdown",
   "metadata": {},
   "source": [
    "Build and optimize the model. This is taking a long time and I'm not certain why. (julia version 1.8)"
   ]
  },
  {
   "cell_type": "code",
   "execution_count": 3,
   "metadata": {},
   "outputs": [],
   "source": [
    "m = Model(Clp.Optimizer)\n",
    "\n",
    "D = [d for d∈GU[:d]]\n",
    "\n",
    "day = GU[:day]\n",
    "ave = GU[:ave]\n",
    "\n",
    "@variables(m,begin\n",
    "    DEV[GU[:d]] >= 0 #Deviation\n",
    "    T[GU[:d]]\n",
    "    X0\n",
    "    X1\n",
    "    X2\n",
    "    X3\n",
    "    X4\n",
    "    X5\n",
    "end)\n",
    "\n",
    "@objective(m,Min, sum(DEV[d] for d∈GU[:d]))\n",
    "\n",
    "@constraint(m,tdef[d∈GU[:d]],\n",
    "    T[d] == X0 + X1*day[[d]] + X2*cos(2*pi*day[[d]]/365.25)\n",
    "                             + X3*sin(2*pi*day[[d]]/365.25)\n",
    "                             + X4*cos(2*pi*day[[d]]/(10.7*365.25))\n",
    "                             + X5*sin(2*pi*day[[d]]/(10.7*365.25))\n",
    ")\n",
    "\n",
    "@constraint(m,devlb[d∈GU[:d]],\n",
    "    DEV[d] >= ave[[d]] - T[d]\n",
    ")\n",
    "\n",
    "@constraint(m,devub[d∈GU[:d]],\n",
    "    DEV[d] >= T[d] - ave[[d]]\n",
    ")\n",
    "\n",
    "optimize!(m)"
   ]
  },
  {
   "attachments": {},
   "cell_type": "markdown",
   "metadata": {},
   "source": [
    "Get the last 5 variables and display them."
   ]
  },
  {
   "cell_type": "code",
   "execution_count": null,
   "metadata": {},
   "outputs": [],
   "source": [
    "for var in all_variables(m)[end-5:end]\n",
    "    println(\"$var => $(value(var))\")\n",
    "end"
   ]
  },
  {
   "cell_type": "code",
   "execution_count": null,
   "metadata": {},
   "outputs": [],
   "source": [
    "println(\"Warming = $(value(m[:X1])*365.25*100)\")"
   ]
  },
  {
   "cell_type": "code",
   "execution_count": null,
   "metadata": {},
   "outputs": [],
   "source": []
  },
  {
   "cell_type": "code",
   "execution_count": null,
   "metadata": {},
   "outputs": [],
   "source": [
    "D = [d for d∈GU[:d]]\n",
    "day = NamedArray(GU[:day][:d],D)\n",
    "ave = NamedArray(GU[:ave][:d],D)\n",
    "\n",
    "\n",
    "m = Model(Clp.Optimizer)\n",
    "\n",
    "\n",
    "@variables(m,begin\n",
    "    DEV[D] >= 0 #Deviation\n",
    "    T[D]\n",
    "    X0\n",
    "    X1\n",
    "    X2\n",
    "    X3\n",
    "    X4\n",
    "    X5\n",
    "end)\n",
    "\n",
    "@objective(m,Min, sum(DEV[d] for d∈D))\n",
    "\n",
    "@constraint(m,tdef[d∈D],\n",
    "    T[d] == X0 + X1*day[[d]] + X2*cos(2*pi*day[[d]]/365.25)\n",
    "                             + X3*sin(2*pi*day[[d]]/365.25)\n",
    "                             + X4*cos(2*pi*day[[d]]/(10.7*365.25))\n",
    "                             + X5*sin(2*pi*day[[d]]/(10.7*365.25))\n",
    ")\n",
    "\n",
    "@constraint(m,devlb[d∈D],\n",
    "    DEV[d] >= ave[[d]] - T[d]\n",
    ")\n",
    "\n",
    "@constraint(m,devub[d∈D],\n",
    "    DEV[d] >= T[d] - ave[[d]]\n",
    ")\n",
    "\n",
    "optimize!(m)\n"
   ]
  }
 ],
 "metadata": {
  "kernelspec": {
   "display_name": "Julia 1.8.0",
   "language": "julia",
   "name": "julia-1.8"
  },
  "language_info": {
   "file_extension": ".jl",
   "mimetype": "application/julia",
   "name": "julia",
   "version": "1.8.0"
  },
  "orig_nbformat": 4
 },
 "nbformat": 4,
 "nbformat_minor": 2
}
