{
 "cells": [
  {
   "cell_type": "markdown",
   "metadata": {},
   "source": [
    "Python Gams Transfer. Uses GAMS 42.\n",
    "\n",
    "Should not be necessary as data exists in directory"
   ]
  },
  {
   "cell_type": "code",
   "execution_count": 4,
   "metadata": {},
   "outputs": [],
   "source": [
    "import gams.transfer as gt\n",
    "import os"
   ]
  },
  {
   "cell_type": "code",
   "execution_count": 5,
   "metadata": {},
   "outputs": [],
   "source": [
    "w = gt.Container(\"data.gdx\")\n",
    "\n",
    "w[\"day\"].records = w[\"day\"].records.merge(w[\"d\"].records,how = \"inner\")[[\"dd_0\",\"value\"]]\n",
    "w[\"ave\"].records = w[\"ave\"].records.merge(w[\"d\"].records,how = \"inner\")[[\"dd_0\",\"value\"]]"
   ]
  },
  {
   "cell_type": "code",
   "execution_count": 7,
   "metadata": {},
   "outputs": [],
   "source": [
    "set_type = type(w[\"d\"])\n",
    "parm_type = type(w[\"day\"])\n",
    "out_dir = \"julia_data\"\n",
    "for key in w.data:\n",
    "    G = w[key]\n",
    "    dir = \"parameter\"\n",
    "    if type(G) == set_type:\n",
    "        dir = \"set\"\n",
    "    df = G.records\n",
    "    if df is not None:\n",
    "        if type(G) == parm_type:\n",
    "            cols = df.columns\n",
    "            cols = [e.split(\"_\")[0] for e in cols]\n",
    "            df.columns = cols\n",
    "            #out[key] = df\n",
    "        df.to_csv(os.path.join(out_dir,f\"{key}.csv\"),index=False)\n",
    "    else:\n",
    "        print(key)"
   ]
  },
  {
   "cell_type": "code",
   "execution_count": 13,
   "metadata": {},
   "outputs": [
    {
     "data": {
      "text/plain": [
       "'Assignment of dates to days'"
      ]
     },
     "execution_count": 13,
     "metadata": {},
     "output_type": "execute_result"
    }
   ],
   "source": [
    "w[\"day\"].description"
   ]
  }
 ],
 "metadata": {
  "kernelspec": {
   "display_name": "gams42",
   "language": "python",
   "name": "python3"
  },
  "language_info": {
   "codemirror_mode": {
    "name": "ipython",
    "version": 3
   },
   "file_extension": ".py",
   "mimetype": "text/x-python",
   "name": "python",
   "nbconvert_exporter": "python",
   "pygments_lexer": "ipython3",
   "version": "3.10.9"
  },
  "orig_nbformat": 4
 },
 "nbformat": 4,
 "nbformat_minor": 2
}
