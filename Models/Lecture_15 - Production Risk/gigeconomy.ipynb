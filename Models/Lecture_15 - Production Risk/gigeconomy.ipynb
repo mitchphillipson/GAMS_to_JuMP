{
 "cells": [
  {
   "cell_type": "code",
   "execution_count": 84,
   "metadata": {},
   "outputs": [],
   "source": [
    "using JuMP\n",
    "using Ipopt\n",
    "using MadNLP\n",
    "using NamedArrays"
   ]
  },
  {
   "cell_type": "code",
   "execution_count": 85,
   "metadata": {},
   "outputs": [],
   "source": [
    "GU = Dict(\n",
    "    :vref => 2,\n",
    "    :piref => .25,\n",
    "    :esub => 4,\n",
    "    :thetaK => 0.3,\n",
    "    :thetaE => .3,\n",
    "    :thetaL => .2,\n",
    "    :w => 1,\n",
    "    :sigma_p => .5,\n",
    "    :s => Symbol.(\"s\",1:50),\n",
    "    :wage => 1,\n",
    "    :stochastic => 1,\n",
    ")   \n",
    "\n",
    "GU[:gamma] = 1- 1/GU[:esub]\n",
    "GU[:pi0] = 1- GU[:thetaK] - GU[:thetaE] - GU[:thetaL]\n",
    "GU[:sigma] = (log(1+GU[:pi0]) - log(1+GU[:pi0]*GU[:piref]))/log(GU[:vref])\n",
    "GU[:rho] = 1-1/GU[:sigma]\n",
    "\n",
    "\n",
    "GU[:p] = NamedArray(exp.(GU[:sigma_p].*rand(length(GU[:s]))),GU[:s])\n",
    "\n",
    "\n",
    "X = split(\"s1  0.855,    s2  1.178,    s3  1.261,    s4  0.401,    s5  0.694,    s6  0.615,    s7  0.821,    s8  1.596,    s9  0.684,    s10 1.000,    s11 0.635,    s12 1.188,    s13 0.718,    s14 0.784,    s15 2.565,    s16 0.697,    s17 0.522,    s18 0.503,    s19 1.173,    s20 1.810,    s21 0.562,    s22 1.426,    s23 1.663,    s24 0.696,    s25 0.607,    s26 1.003,    s27 0.608,    s28 0.635,    s29 1.393,    s30 2.193,    s31 3.024,    s32 0.732,    s33 0.897,    s34 0.618,    s35 0.948,    s36 0.877,    s37 0.769,    s38 0.595,    s39 2.694,    s40 1.511,    s41 1.652,    s42 0.687,    s43 1.459,    s44 1.822,    s45 1.525,    s46 0.489,    s47 2.857,    s48 1.400,    s49 1.088,    s50 2.281\",\",\")\n",
    "\n",
    "\n",
    "GU[:p][GU[:s]] = [parse(Float64,e[end]) for e in split.(strip.(X),\" \")]\n",
    "1;"
   ]
  },
  {
   "cell_type": "code",
   "execution_count": 93,
   "metadata": {},
   "outputs": [
    {
     "data": {
      "text/plain": [
       "gigeconomy (generic function with 1 method)"
      ]
     },
     "metadata": {},
     "output_type": "display_data"
    }
   ],
   "source": [
    "function gigeconomy(GU)\n",
    "\n",
    "    S = GU[:s]# => Symbol.(\"s\",1:50),\n",
    "\n",
    "    vref = GU[:vref]\n",
    "    piref=  GU[:piref]\n",
    "    esub = GU[:esub]\n",
    "    θk = GU[:thetaK]# => 0.3,\n",
    "    θE = GU[:thetaE]# => .3,\n",
    "    θL = GU[:thetaL]# => .2,\n",
    "    w = GU[:w]# => 1,\n",
    "    σp = GU[:sigma_p]# => .5,\n",
    "\n",
    "    wage = GU[:wage]# => 1,\n",
    "    stochastic = GU[:stochastic]# => 1,\n",
    "\n",
    "    γ = GU[:gamma]# = 1- 1/GU[:esub]\n",
    "    π0 = GU[:pi0] # = 1- GU[:thetaK] - GU[:thetaE] - GU[:thetaL]\n",
    "    σ = GU[:sigma] # = (log(1+GU[:pi0]) - log(1+GU[:pi0]*GU[:piref]))/log(GU[:vref])\n",
    "    ρ = GU[:rho] # = 1-1/GU[:sigma]\n",
    "\n",
    "\n",
    "    p = GU[:p]\n",
    "    \n",
    "    m = Model(MadNLP.Optimizer)\n",
    "\n",
    "    @variables(m,begin\n",
    "        EU\t\t                    #Expected utility,\n",
    "        K[S]>=.01, (start = θk,)\t#Capital stock,\n",
    "        E[S]>=.01, (start = θE,)\t#Full time employees,\n",
    "        KK\t\t                    #Capital stock (stochastic model)\n",
    "        EE\t\t                    #Employment (stochastic model)\n",
    "        L[S]>=.01, (start = θL,)\t#Gig employees\n",
    "\n",
    "        X[S]>=.001, (start = 1,)\t#Ending wealth by state,\n",
    "        PI[S],      (start=π0,)\t\t#Profit (or social surplus) by state,\n",
    "        Y[S],       (start = 1,)\t#Supply = demand by state,\n",
    "        EL[S],      (start = 1,)\t#Labor-employee nest\n",
    "    end)\n",
    "    \n",
    "    @NLobjective(m,Max,EU)\n",
    "\n",
    "    N = length(50)\n",
    "\n",
    "    @NLconstraints(m,begin\n",
    "        eudef, EU == 1/N * sum(X[s]^ρ for s∈S)^(1/ρ)\n",
    "        eldef[s=S], EL[s] == (θE/(θE+θL) * ( E[s]/θE)^γ + θL/(θE+θL) * (L[s]/θL)^γ)^(1/γ)\n",
    "        ydef[s=S], Y[s] == (K[s]/θk)^θk * EL[s]^(θE+θL)\n",
    "        pidef[s=S], PI[s] == p[s]*Y[s] - (K[s] + E[s] + wage*L[s])\n",
    "        xdef[s=S], X[s] == (w+PI[s])/(w+π0)\n",
    "    end)\n",
    "\n",
    "    if stochastic != 0\n",
    "        @NLconstraints(m,begin\n",
    "            naK[s=S], K[s] == KK\n",
    "            naE[s=S], E[s] == EE\n",
    "        end)\n",
    "    end\n",
    "\n",
    "    return m\n",
    "end"
   ]
  },
  {
   "cell_type": "code",
   "execution_count": 94,
   "metadata": {},
   "outputs": [],
   "source": [
    "GU[:wage]=1\n",
    "GU[:stochastic] = 1\n",
    "\n",
    "bench = gigeconomy(GU)\n",
    "set_silent(bench)\n",
    "optimize!(bench)\n",
    "\n",
    "out = \"\"\n",
    "\n",
    "for var in all_variables(bench)\n",
    "    out*=\"$var -> $(value(var))\\n\"\n",
    "end\n",
    "\n",
    "#println(out)"
   ]
  },
  {
   "cell_type": "code",
   "execution_count": 95,
   "metadata": {},
   "outputs": [],
   "source": [
    "GU[:wage]=1\n",
    "GU[:stochastic] = 0\n",
    "\n",
    "shock = gigeconomy(GU)\n",
    "set_silent(shock)\n",
    "optimize!(shock)\n",
    "\n",
    "out = \"\"\n",
    "\n",
    "for var in all_variables(shock)\n",
    "    out*=\"$var -> $(value(var))\\n\"\n",
    "end\n",
    "\n",
    "#println(out)\n"
   ]
  },
  {
   "cell_type": "code",
   "execution_count": 96,
   "metadata": {},
   "outputs": [
    {
     "name": "stdout",
     "output_type": "stream",
     "text": [
      "EU_s: 0.37029729177311527 Expected utility in stochastic model\n",
      "EU_d: 3.6110454455753263 Expected utility in the deterministic model\n",
      "\n",
      "rp  : 191.24924385735392 Risk premium (%)\n",
      "evpi: 875.1746841799342 Expected value of perfect information\n",
      "\n"
     ]
    }
   ],
   "source": [
    "EU_s = value(bench[:EU])#objective_value(bench)\n",
    "EU_d = sum(value.(shock[:X]))/length(GU[:s])\n",
    "\n",
    "rp = 100*(sum(value.(bench[:X]))/length(GU[:s])/EU_s-1)\n",
    "evpi = 100 * (EU_d / EU_s - 1);\n",
    "\n",
    "println(\n",
    "\"\"\"EU_s: $(EU_s) Expected utility in stochastic model\n",
    "EU_d: $(EU_d) Expected utility in the deterministic model\n",
    "\n",
    "rp  : $(rp) Risk premium (%)\n",
    "evpi: $(evpi) Expected value of perfect information\n",
    "\"\"\")"
   ]
  },
  {
   "cell_type": "code",
   "execution_count": 97,
   "metadata": {},
   "outputs": [
    {
     "data": {
      "text/plain": [
       "0.37029729177311527"
      ]
     },
     "metadata": {},
     "output_type": "display_data"
    }
   ],
   "source": [
    "value(bench[:EU])"
   ]
  },
  {
   "cell_type": "code",
   "execution_count": 98,
   "metadata": {},
   "outputs": [
    {
     "data": {
      "text/plain": [
       "0.388266106797141"
      ]
     },
     "metadata": {},
     "output_type": "display_data"
    }
   ],
   "source": [
    "value(shock[:EU])"
   ]
  },
  {
   "cell_type": "code",
   "execution_count": 91,
   "metadata": {},
   "outputs": [
    {
     "data": {
      "text/plain": [
       "1-dimensional DenseAxisArray{Float64,1,...} with index sets:\n",
       "    Dimension 1, [:s1, :s2, :s3, :s4, :s5, :s6, :s7, :s8, :s9, :s10  …  :s41, :s42, :s43, :s44, :s45, :s46, :s47, :s48, :s49, :s50]\n",
       "And data, a 50-element Vector{Float64}:\n",
       "  0.9094849842940702\n",
       "  1.2114059315174424\n",
       "  1.3647365543086578\n",
       "  0.8350614401023079\n",
       "  0.860164904349237\n",
       "  0.8479963837633891\n",
       "  0.895500995397868\n",
       "  2.559223613942403\n",
       "  0.8582867063154686\n",
       "  0.99999999999597\n",
       "  ⋮\n",
       "  0.8588387507096928\n",
       "  1.935190266901405\n",
       "  4.179831105645636\n",
       "  2.208001790184187\n",
       "  0.8379934097924047\n",
       " 27.467882351362515\n",
       "  1.7297066664466711\n",
       "  1.0874266408269015\n",
       " 11.120312705056179"
      ]
     },
     "metadata": {},
     "output_type": "display_data"
    }
   ],
   "source": [
    "value.(shock[:X])"
   ]
  },
  {
   "cell_type": "code",
   "execution_count": null,
   "metadata": {},
   "outputs": [],
   "source": []
  },
  {
   "cell_type": "code",
   "execution_count": null,
   "metadata": {},
   "outputs": [],
   "source": []
  }
 ],
 "metadata": {
  "kernelspec": {
   "display_name": "Julia 1.8.0",
   "language": "julia",
   "name": "julia-1.8"
  },
  "language_info": {
   "file_extension": ".jl",
   "mimetype": "application/julia",
   "name": "julia",
   "version": "1.8.0"
  },
  "orig_nbformat": 4
 },
 "nbformat": 4,
 "nbformat_minor": 2
}
