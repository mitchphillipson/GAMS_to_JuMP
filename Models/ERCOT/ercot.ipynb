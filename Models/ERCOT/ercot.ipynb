{
 "cells": [
  {
   "cell_type": "code",
   "execution_count": 2,
   "metadata": {},
   "outputs": [],
   "source": [
    "using JuMP\n",
    "import PATHSolver\n",
    "\n",
    "using NamedArrays\n",
    "using CSV\n",
    "\n",
    "using Suppressor"
   ]
  },
  {
   "cell_type": "code",
   "execution_count": 19,
   "metadata": {},
   "outputs": [
    {
     "data": {
      "text/plain": [
       "test_solution (generic function with 1 method)"
      ]
     },
     "metadata": {},
     "output_type": "display_data"
    }
   ],
   "source": [
    "function test_solution(model,path_to_sols)\n",
    "    vars = [(:K,1),\n",
    "            (:M,1),\n",
    "            (:X,2),\n",
    "            (:PE,2),\n",
    "            (:PR,1),\n",
    "            (:PX,1),\n",
    "            (:PEU,1),\n",
    "            (:PC,2),\n",
    "            (:EU,1),\n",
    "            (:C,2)]\n",
    "\n",
    "    #path = \"gams_solutions/exogenous_maintenance/\"\n",
    "\n",
    "    for (var,n) in vars\n",
    "        df = CSV.File(\"$path_to_sols$var.csv\",stringtype=String)\n",
    "\n",
    "        for row in df\n",
    "            domain = Symbol.([row[i] for i∈1:n])\n",
    "            val = row[n+1]\n",
    "            @assert isapprox(value(model[var][domain...]),val,atol=1e-5) \"Variable, $var, doesn't match in solution $path_to_sols\"\n",
    "        end\n",
    "    end\n",
    "    \n",
    "end"
   ]
  },
  {
   "cell_type": "code",
   "execution_count": 4,
   "metadata": {},
   "outputs": [
    {
     "data": {
      "text/plain": [
       "0"
      ]
     },
     "metadata": {},
     "output_type": "display_data"
    }
   ],
   "source": [
    "R = [:ercot,:ferc] #Regions\n",
    "S = [:summer,:winter,:vortex] #States of nature\n",
    "\n",
    "\n",
    "σ = .25 #Degree of relative risk aversion\n",
    "ESUB = .25 #Elasticity of substitution between electricity and other goods\n",
    "\n",
    "pi = NamedArray([300,64,1],S) #State probabilities (read as days per year)\n",
    "C0 = 31 #Reference aggregate expenditure (electricity plus other goods) /31/,\n",
    "\n",
    "λ = NamedArray(zeros(length(R),length(S)),(R,S))\n",
    "λ0 = NamedArray([1 1 1.5;1 1.2 1.2],(R,S))\n",
    "\n",
    "w = NamedArray(zeros(length(R),length(S)),(R,S))\n",
    "w0 = NamedArray([0 0 .25;0 0.2 0.25],(R,S))\n",
    "\n",
    "pi = pi./365\n",
    "\n",
    "m0 = NamedArray([.4,.8],R)\n",
    "\n",
    "θe = 1/C0\n",
    "\n",
    "α = 0\n",
    "γ = 0"
   ]
  },
  {
   "cell_type": "code",
   "execution_count": 5,
   "metadata": {},
   "outputs": [
    {
     "data": {
      "text/plain": [
       "ERCOT (generic function with 1 method)"
      ]
     },
     "metadata": {},
     "output_type": "display_data"
    }
   ],
   "source": [
    "function ERCOT()\n",
    "\n",
    "    model = Model(PATHSolver.Optimizer)\n",
    "\n",
    "    @variables(model,begin\n",
    "        K[R]>=0,   (start=1,)   #Capacity\n",
    "        0<=M[R]<=.99,(start=.5,)                 #Maintenance\n",
    "\n",
    "        PE[R,S]>=0,(start=1,)   #Wholesale price\n",
    "        PR[R]>=0,  (start=1,)   #Electricity generation resource\n",
    "\n",
    "        X[R,S], (start=1,)   #Sales to other region\n",
    "        PX[S]>=0,  (start=1,)   #Traded electricity price\n",
    "\n",
    "        PEU[R]>=0, (start=1,)   #Shadow price of expected utility\n",
    "        PC[R,S]>=0,(start=1,)   #State-contingent price\n",
    "        EU[R]>=0,  (start=1,)   #Expected utility\n",
    "        C[R,S]>=0, (start=1,)   #Consumption;\n",
    "    end)\n",
    "\n",
    "\n",
    "    @constraints(model,begin\n",
    "        PC_def[r=R,s=S], PC[r,s] - (θe*(PE[r,s]*λ[r,s])^(1-ESUB) + 1 - θe)^(1/(1-ESUB)) ⟂ PC[r,s]\n",
    "        PEU_def[r=R], PEU[r] - (sum(pi[s]*PC[r,s]^(1-σ) for s∈S)^(1/(1-σ))) ⟂ PEU[r]\n",
    "        \n",
    "        EU_def[r=R], EU[r] - 1/PEU[r] ⟂ EU[r]\n",
    "        \n",
    "        C_def[r=R,s=S], C[r,s] - EU[r]*(PEU[r]/PC[r,s])^σ ⟂ C[r,s]\n",
    "        \n",
    "        profit_K[r=R], sqrt(PR[r]) - sum( pi[s]*PE[r,s]*(1-w[r,s]*(1-M[r])) for s∈S) ⟂ K[r]\n",
    "        profit_M[r=R], α/(1-M[r])^γ - sum( pi[s]*PE[r,s]*w[r,s] for s∈S) ⟂ M[r]\n",
    "        profit_X[r=R,s=S], PE[r,s] - PX[s] ⟂ X[r,s]\n",
    "        \n",
    "        market_PE[r=R,s=S], K[r]*(1-w[r,s]*(1-M[r])) - ( C[r,s] * λ[r,s] * (PC[r,s]/(PE[r,s]*λ[r,s]))^ESUB + X[r,s]) ⟂ PE[r,s]\n",
    "        market_PR[r=R], .5 - .5*K[r]*1/sqrt(PR[r]) ⟂ PR[r]\n",
    "        market_PX[s=S], sum(X[r,s] for r∈R) - 0 ⟂ PX[s]\n",
    "    end)\n",
    "\n",
    "\n",
    "    return model\n",
    "\n",
    "\n",
    "end"
   ]
  },
  {
   "cell_type": "code",
   "execution_count": 20,
   "metadata": {},
   "outputs": [],
   "source": [
    "λ.=1\n",
    "w.=0\n",
    "\n",
    "\n",
    "model_01 = ERCOT()\n",
    "\n",
    "fix.(model_01[:X],0,force=true)\n",
    "fix.(model_01[:PX],1,force=true)\n",
    "fix.(model_01[:M],0,force=true)\n",
    "\n",
    "\n",
    "#println(start_value.(ignore_weather[:PC]))\n",
    "\n",
    "\n",
    "set_attribute(model_01, \"cumulative_iteration_limit\", 0)\n",
    "\n",
    "set_silent(model_01)\n",
    "\n",
    "optimize!(model_01)\n",
    "\n",
    "test_solution(model_01,\"gams_solutions/01/\")"
   ]
  },
  {
   "cell_type": "code",
   "execution_count": 22,
   "metadata": {},
   "outputs": [
    {
     "data": {
      "text/plain": [
       "0.0012596793542691911"
      ]
     },
     "metadata": {},
     "output_type": "display_data"
    }
   ],
   "source": [
    "w .= w0\n",
    "λ .= λ0\n",
    "\n",
    "model_02 = ERCOT()\n",
    "\n",
    "fix.(model_02[:X],0,force=true)\n",
    "fix.(model_02[:PX],1,force=true)\n",
    "fix.(model_02[:M],m0[R].array,force=true)\n",
    "\n",
    "\n",
    "\n",
    "set_silent(model_02)\n",
    "\n",
    "optimize!(model_02)\n",
    "\n",
    "\n",
    "test_solution(model_02,\"gams_solutions/02/\")\n",
    "\n",
    "\n",
    "#\tCalibrate parameters of the maitenance cost function which are consistent\n",
    "#\twith the assumed maintenance levels in ercot and ferc:\n",
    "\n",
    "\n",
    "γ = ( log(sum( pi[s] * value(model_02[:PE][:ercot,s])*w[:ercot,s] for s∈S)) - \n",
    "      log(sum( pi[s] * value(model_02[:PE][:ferc,s]) *w[:ferc,s]  for s∈S))\n",
    "    ) / (log( 1-value(model_02[:M][:ferc])) - log( 1-value(model_02[:M][:ercot])))\n",
    "\n",
    "\n",
    "α = sum( pi[s]*value(model_02[:PE][:ercot,s])*w[:ercot,s] for s∈S) * (1-value(model_02[:M][:ercot]))^γ\n",
    "\n",
    "\n"
   ]
  },
  {
   "cell_type": "code",
   "execution_count": 23,
   "metadata": {},
   "outputs": [
    {
     "data": {
      "text/plain": [
       "1-dimensional DenseAxisArray{Float64,1,...} with index sets:\n",
       "    Dimension 1, [:ercot, :ferc]\n",
       "And data, a 2-element Vector{Float64}:\n",
       " 1.0023267574081685\n",
       " 1.0301950780817577"
      ]
     },
     "metadata": {},
     "output_type": "display_data"
    }
   ],
   "source": [
    "w .= w0\n",
    "λ .= λ0\n",
    "\n",
    "model_03 = ERCOT()\n",
    "\n",
    "fix.(model_03[:X],0,force=true)\n",
    "fix.(model_03[:PX],1,force=true)\n",
    "\n",
    "set_start_value.(all_variables(model_03),value.(all_variables(model_02)))\n",
    "\n",
    "set_silent(model_03)\n",
    "\n",
    "optimize!(model_03)\n",
    "\n",
    "test_solution(model_03,\"gams_solutions/03/\")\n",
    "\n",
    "\n",
    "k0 = value.(model_03[:K])"
   ]
  },
  {
   "cell_type": "code",
   "execution_count": 24,
   "metadata": {},
   "outputs": [],
   "source": [
    "\n",
    "model_04 = ERCOT()\n",
    "\n",
    "set_silent(model_04)\n",
    "\n",
    "optimize!(model_04)\n",
    "\n",
    "test_solution(model_04,\"gams_solutions/04/\")"
   ]
  },
  {
   "cell_type": "code",
   "execution_count": 25,
   "metadata": {},
   "outputs": [],
   "source": [
    "model_05 = ERCOT()\n",
    "\n",
    "fix.(model_05[:X],0,force=true)\n",
    "fix.(model_05[:PX],1,force=true)\n",
    "fix.(model_05[:K],k0,force=true)\n",
    "\n",
    "set_silent(model_05)\n",
    "\n",
    "optimize!(model_05)\n",
    "\n",
    "\n",
    "test_solution(model_05,\"gams_solutions/05/\")"
   ]
  },
  {
   "cell_type": "code",
   "execution_count": 26,
   "metadata": {},
   "outputs": [],
   "source": [
    "model_06 = ERCOT()\n",
    "\n",
    "fix.(model_06[:K],k0,force=true)\n",
    "\n",
    "set_silent(model_06)\n",
    "\n",
    "optimize!(model_06)\n",
    "\n",
    "\n",
    "#print(generate_report(model_06))\n",
    "\n",
    "test_solution(model_06,\"gams_solutions/06/\")"
   ]
  },
  {
   "cell_type": "code",
   "execution_count": 27,
   "metadata": {},
   "outputs": [],
   "source": [
    "pi[S] = [300,55,10]./365\n",
    "\n",
    "model_07 = ERCOT()\n",
    "\n",
    "fix.(model_07[:X],0,force=true)\n",
    "fix.(model_07[:PX],1,force=true)\n",
    "\n",
    "set_silent(model_07)\n",
    "\n",
    "optimize!(model_07)\n",
    "\n",
    "test_solution(model_07,\"gams_solutions/07/\")"
   ]
  },
  {
   "cell_type": "code",
   "execution_count": 28,
   "metadata": {},
   "outputs": [],
   "source": [
    "model_08 = ERCOT()\n",
    "\n",
    "set_silent(model_08)\n",
    "\n",
    "optimize!(model_08)\n",
    "\n",
    "test_solution(model_08,\"gams_solutions/08/\")"
   ]
  },
  {
   "cell_type": "code",
   "execution_count": null,
   "metadata": {},
   "outputs": [],
   "source": []
  },
  {
   "cell_type": "code",
   "execution_count": null,
   "metadata": {},
   "outputs": [],
   "source": []
  },
  {
   "cell_type": "code",
   "execution_count": null,
   "metadata": {},
   "outputs": [],
   "source": []
  },
  {
   "cell_type": "code",
   "execution_count": null,
   "metadata": {},
   "outputs": [],
   "source": []
  }
 ],
 "metadata": {
  "kernelspec": {
   "display_name": "Julia 1.9.2",
   "language": "julia",
   "name": "julia-1.9"
  },
  "language_info": {
   "file_extension": ".jl",
   "mimetype": "application/julia",
   "name": "julia",
   "version": "1.9.2"
  },
  "orig_nbformat": 4
 },
 "nbformat": 4,
 "nbformat_minor": 2
}
