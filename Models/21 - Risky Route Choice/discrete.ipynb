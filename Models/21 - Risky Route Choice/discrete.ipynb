{
 "cells": [
  {
   "cell_type": "code",
   "execution_count": 1,
   "metadata": {},
   "outputs": [],
   "source": [
    "using JuMP\n",
    "using Ipopt"
   ]
  },
  {
   "cell_type": "code",
   "execution_count": 72,
   "metadata": {},
   "outputs": [],
   "source": [
    "num_nodes = 20\n",
    "\n",
    "R = 0:num_nodes #Rows and columns\n",
    "N = 1:(num_nodes+1)^2\n",
    "\n",
    "IR=IC=JR=JC=R\n",
    "I=J=K=N\n",
    "\n",
    "loc = Dict([i*length(R)+j+1=>(i,j) for i∈R,j∈R])\n",
    "\n",
    "start = Dict(i=>0 for i∈N)\n",
    "start[421]=1\n",
    "\n",
    "ending = Dict(i=>0 for i∈N)\n",
    "ending[21]=1\n",
    "\n",
    "\n",
    "diag = 4\n",
    "\n",
    "arcs = []\n",
    "dist = Dict()\n",
    "\n",
    "W = length(R)-1\n",
    "\n",
    "#Build the grid\n",
    "for (n1,(r1,c1))∈loc,(n2,(r2,c2))∈loc\n",
    "    if max(abs(r1-r2),abs(c1-c2))<=diag & min(abs(r1-r2),abs(c1-c2))==1\n",
    "        push!(arcs,(n1,n2))\n",
    "        dist[n1,n2] = sqrt((r1-r2)^2+(c1-c2)^2)/W\n",
    "    end\n",
    "\n",
    "    if max(abs(r1-r2),abs(c1-c2))==1\n",
    "        push!(arcs,(n1,n2))\n",
    "        dist[n1,n2] = sqrt((r1-r2)^2+(c1-c2)^2)/W\n",
    "    end\n",
    "end\n",
    "\n",
    "\n",
    "H = [:h0] #Hazards\n",
    "hloc = Dict(:h0 => (0,0)) #hazard locations\n",
    "\n",
    "pn = Dict() #probablity of success at each node\n",
    "for (n,(r,c)) ∈ loc\n",
    "    pn[n] = prod(sqrt((r-r1)^2+(c-c1)^2)/sqrt(2*W^2) for (h,(r1,c1))∈hloc)\n",
    "end\n",
    "\n",
    "\n",
    "p = Dict() #Probability of success on each arc\n",
    "for (i,j) in arcs\n",
    "    p[i,j] = .5 * (pn[i]+pn[j])\n",
    "end\n",
    "\n",
    "λ = 1 #weight on speed\n",
    "\n",
    "1;"
   ]
  },
  {
   "cell_type": "code",
   "execution_count": 73,
   "metadata": {},
   "outputs": [
    {
     "name": "stdout",
     "output_type": "stream",
     "text": [
      "This is Ipopt version 3.14.13, running with linear solver MUMPS 5.6.0.\n",
      "\n",
      "Number of nonzeros in equality constraint Jacobian...:     6560\n",
      "Number of nonzeros in inequality constraint Jacobian.:        0\n",
      "Number of nonzeros in Lagrangian Hessian.............:        0\n",
      "\n",
      "Total number of variables............................:   194481\n",
      "                     variables with only lower bounds:   194481\n",
      "                variables with lower and upper bounds:        0\n",
      "                     variables with only upper bounds:        0\n",
      "Total number of equality constraints.................:      441\n",
      "Total number of inequality constraints...............:        0\n",
      "        inequality constraints with only lower bounds:        0\n",
      "   inequality constraints with lower and upper bounds:        0\n",
      "        inequality constraints with only upper bounds:        0\n",
      "\n",
      "iter    objective    inf_pr   inf_du lg(mu)  ||d||  lg(rg) alpha_du alpha_pr  ls\n",
      "   0  1.9713689e+00 1.00e+00 1.00e+00  -1.0 0.00e+00    -  0.00e+00 0.00e+00   0\n",
      "   1  2.2017016e+00 9.40e-01 1.05e+00  -1.7 2.03e-01    -  5.13e-02 6.03e-02f  1\n",
      "   2  4.9434198e+00 3.55e-01 3.12e+00  -1.7 6.04e-01    -  1.10e-01 6.23e-01f  1\n",
      "   3  9.4256586e+00 4.11e-08 6.91e-02  -1.7 1.72e-01    -  9.60e-01 1.00e+00f  1\n",
      "   4  9.6958862e+00 3.89e-10 2.76e-02  -2.5 1.59e-01    -  8.37e-01 1.00e+00f  1\n",
      "   5  2.6798689e+00 1.77e-10 2.01e-03  -3.8 7.76e-02    -  9.26e-01 9.31e-01f  1\n",
      "   6  2.0011547e+00 2.87e-10 1.15e-02  -3.8 3.69e-01    -  7.26e-01 1.00e+00f  1\n",
      "   7  1.9420664e+00 3.13e-11 5.15e-03  -3.8 1.35e+00    -  5.13e-01 1.00e+00f  1\n",
      "   8  1.8985179e+00 2.61e-11 3.63e-07  -3.8 2.76e+00    -  1.00e+00 1.00e+00f  1\n",
      "   9  1.4643951e+00 1.83e-12 1.60e-03  -5.7 2.25e+02    -  3.95e-01 9.30e-01f  1\n",
      "iter    objective    inf_pr   inf_du lg(mu)  ||d||  lg(rg) alpha_du alpha_pr  ls\n",
      "  10  1.4204469e+00 1.79e-12 2.95e-05  -5.7 3.71e+02    -  8.05e-01 1.00e+00f  1\n",
      "  11  1.4202258e+00 2.63e-13 1.84e-11  -5.7 1.87e+03    -  1.00e+00 1.00e+00f  1\n",
      "  12  1.4142201e+00 1.33e-15 2.30e-08  -8.6 1.32e+02    -  9.92e-01 1.00e+00f  1\n",
      "  13  1.4142146e+00 2.04e-15 9.31e-15  -9.0 5.07e+03    -  1.00e+00 1.00e+00f  1\n",
      "\n",
      "Number of Iterations....: 13\n",
      "\n",
      "                                   (scaled)                 (unscaled)\n",
      "Objective...............:   1.4142145546388005e+00    1.4142145546388005e+00\n",
      "Dual infeasibility......:   9.3119956190435005e-15    9.3119956190435005e-15\n",
      "Constraint violation....:   2.0356266646571178e-15    2.0356266646571178e-15\n",
      "Variable bound violation:   3.5717570068554719e-09    3.5717570068554719e-09\n",
      "Complementarity.........:   9.5013535403429029e-10    9.5013535403429029e-10\n",
      "Overall NLP error.......:   9.5013535403429029e-10    9.5013535403429029e-10\n",
      "\n",
      "\n",
      "Number of objective function evaluations             = 14\n",
      "Number of objective gradient evaluations             = 14\n",
      "Number of equality constraint evaluations            = 14\n",
      "Number of inequality constraint evaluations          = 0\n",
      "Number of equality constraint Jacobian evaluations   = 1\n",
      "Number of inequality constraint Jacobian evaluations = 0\n",
      "Number of Lagrangian Hessian evaluations             = 1\n",
      "Total seconds in IPOPT                               = 5.023\n",
      "\n",
      "EXIT: Optimal Solution Found.\n"
     ]
    }
   ],
   "source": [
    "routechoice = Model(Ipopt.Optimizer)\n",
    "\n",
    "@variable(routechoice,X[N,N]>=0)\n",
    "\n",
    "@objective(routechoice,Min, sum(X[r,c]*dist[r,c]*(λ-(1-λ)*log(p[r,c])) for (r,c)∈arcs))\n",
    "\n",
    "@constraint(routechoice, conservation[k=N],\n",
    "    sum(X[r,k] for (r,c)∈arcs if c==k) + start[k] == sum(X[k,c] for (r,c)∈arcs if r==k) + ending[k]\n",
    ")\n",
    "\n",
    "λ=.5\n",
    "\n",
    "optimize!(routechoice)\n"
   ]
  },
  {
   "cell_type": "code",
   "execution_count": 76,
   "metadata": {},
   "outputs": [
    {
     "data": {
      "text/plain": [
       "2-dimensional DenseAxisArray{Float64,2,...} with index sets:\n",
       "    Dimension 1, 1:441\n",
       "    Dimension 2, 1:441\n",
       "And data, a 441×441 Matrix{Float64}:\n",
       " 7652.66           9.91929e-9  7652.66        …  7652.66        7652.66\n",
       "    6.72313e-9  7652.66           1.27206e-8     7652.66        7652.66\n",
       " 7652.66           5.15448e-9  7652.66           7652.66        7652.66\n",
       " 7652.66        7652.66           3.93458e-9     7652.66        7652.66\n",
       " 7652.66        7652.66        7652.66           7652.66        7652.66\n",
       " 7652.66        7652.66        7652.66        …  7652.66        7652.66\n",
       " 7652.66        7652.66        7652.66           7652.66        7652.66\n",
       " 7652.66        7652.66        7652.66           7652.66        7652.66\n",
       " 7652.66        7652.66        7652.66           7652.66        7652.66\n",
       " 7652.66        7652.66        7652.66           7652.66        7652.66\n",
       "    ⋮                                         ⋱                    ⋮\n",
       " 7652.66        7652.66        7652.66           7652.66        7652.66\n",
       " 7652.66        7652.66        7652.66           7652.66        7652.66\n",
       " 7652.66        7652.66        7652.66           7652.66        7652.66\n",
       " 7652.66        7652.66        7652.66        …  7652.66        7652.66\n",
       " 7652.66        7652.66        7652.66           7652.66        7652.66\n",
       " 7652.66        7652.66        7652.66           7652.66        7652.66\n",
       " 7652.66        7652.66        7652.66              1.27206e-8  7652.66\n",
       " 7652.66        7652.66        7652.66           7652.66           9.91929e-9\n",
       " 7652.66        7652.66        7652.66        …     6.72313e-9  7652.66"
      ]
     },
     "metadata": {},
     "output_type": "display_data"
    }
   ],
   "source": [
    "value.(X)"
   ]
  },
  {
   "cell_type": "code",
   "execution_count": 79,
   "metadata": {},
   "outputs": [
    {
     "ename": "KeyError",
     "evalue": "KeyError: key (24, 1) not found",
     "output_type": "error",
     "traceback": [
      "KeyError: key (24, 1) not found\n",
      "\n",
      "Stacktrace:\n",
      " [1] getindex\n",
      "   @ .\\dict.jl:484 [inlined]\n",
      " [2] getindex(::Dict{Any, Any}, ::Int64, ::Int64)\n",
      "   @ Base .\\abstractdict.jl:549\n",
      " [3] top-level scope\n",
      "   @ c:\\Users\\mphillipson\\Documents\\Modeling\\GAMS_to_JuMP\\Models\\21 - Risky Route Choice\\discrete.ipynb:1"
     ]
    }
   ],
   "source": [
    "dist[24,1]"
   ]
  },
  {
   "cell_type": "code",
   "execution_count": 81,
   "metadata": {},
   "outputs": [
    {
     "data": {
      "text/plain": [
       "3-element Vector{Int64}:\n",
       " 23\n",
       " 22\n",
       "  2"
      ]
     },
     "metadata": {},
     "output_type": "display_data"
    }
   ],
   "source": [
    "[a for (a,b) in arcs if b==1]"
   ]
  }
 ],
 "metadata": {
  "kernelspec": {
   "display_name": "Julia 1.9.2",
   "language": "julia",
   "name": "julia-1.9"
  },
  "language_info": {
   "file_extension": ".jl",
   "mimetype": "application/julia",
   "name": "julia",
   "version": "1.9.2"
  },
  "orig_nbformat": 4
 },
 "nbformat": 4,
 "nbformat_minor": 2
}
