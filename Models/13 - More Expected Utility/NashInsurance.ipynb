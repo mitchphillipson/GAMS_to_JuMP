{
 "cells": [
  {
   "cell_type": "code",
   "execution_count": 1,
   "metadata": {},
   "outputs": [],
   "source": [
    "using JuMP\n",
    "using Ipopt\n",
    "using Complementarity"
   ]
  },
  {
   "cell_type": "code",
   "execution_count": 5,
   "metadata": {},
   "outputs": [
    {
     "data": {
      "text/plain": [
       "0.021353469024510078"
      ]
     },
     "metadata": {},
     "output_type": "display_data"
    }
   ],
   "source": [
    "G = Dict()\n",
    "\n",
    "pi = .01\n",
    "L = .5\n",
    "σ = .9\n",
    "kvalue = 0\n",
    "nfirm = 1\n",
    "\n",
    "ρ = 1 - 1/σ\n",
    "gammamax = pi*(1-L)^(-1/σ)/(pi*(1-L)^(-1/σ) +1 - pi)"
   ]
  },
  {
   "cell_type": "code",
   "execution_count": 28,
   "metadata": {},
   "outputs": [
    {
     "name": "stdout",
     "output_type": "stream",
     "text": [
      "Path 5.0.03 (Fri Jun 26 10:05:33 2020)\n",
      "Written by Todd Munson, Steven Dirkse, Youngdae Kim, and Michael Ferris\n",
      "Preprocessed size   : 8\n",
      "\n",
      "Crash Log\n",
      "major  func  diff  size  residual    step       prox   (label)\n",
      "    0     0             1.0000e+20             0.0e+00 (profitdef)\n",
      "    1     1     1     8 9.0909e+19  1.0e+00    1.0e+01 (profitdef)\n",
      "pn_search terminated: no basis change.\n",
      "\n",
      "Major Iteration Log\n",
      "major minor  func  grad  residual    step  type prox    inorm  (label)\n",
      "    0     0     2     2 9.0909e+19           I 9.0e+00 9.1e+19 (profitdef)\n",
      "    1     1     3     3 7.1146e+19  1.0e+00 SO 3.6e+00 7.1e+19 (profitdef)\n",
      "    2     1     4     4 4.1988e+19  1.0e+00 SO 1.4e+00 4.2e+19 (profitdef)\n",
      "    3     1     5     5 1.5346e+19  1.0e+00 SO 5.8e-01 1.5e+19 (profitdef)\n",
      "    4     1     6     6 2.8736e+18  1.0e+00 SO 2.3e-01 2.9e+18 (profitdef)\n",
      "    5     1     7     7 2.4248e+17  1.0e+00 SO 9.2e-02 2.4e+17 (profitdef)\n",
      "    6     1     8     8 8.6211e+15  1.0e+00 SO 3.7e-02 8.6e+15 (profitdef)\n",
      "    7     1     9     9 1.2528e+14  1.0e+00 SO 1.5e-02 1.3e+14 (profitdef)\n",
      "    8     1    10    10 7.3458e+11  1.0e+00 SO 5.9e-03 7.3e+11 (profitdef)\n",
      "    9     1    11    11 1.7290e+09  1.0e+00 SO 2.4e-03 1.7e+09 (profitdef)\n",
      "   10     1    12    12 1.6302e+06  1.0e+00 SO 9.4e-04 1.6e+06 (profitdef)\n",
      "   11     1    13    13 6.1513e+02  1.0e+00 SO 3.8e-04 6.2e+02 (profitdef)\n",
      "   12     1    14    14 9.2868e-02  1.0e+00 SO 1.5e-04 9.3e-02 (profitdef)\n",
      "   13     1    15    15 5.6087e-06  1.0e+00 SO 6.0e-05 5.6e-06 (profitdef)\n",
      "   14     1    16    16 3.1457e-12  1.0e+00 SO 5.6e-07 3.1e-12 (profitdef)\n",
      "\n",
      "Major Iterations. . . . 14\n",
      "Minor Iterations. . . . 14\n",
      "Restarts. . . . . . . . 0\n",
      "Crash Iterations. . . . 1\n",
      "Gradient Steps. . . . . 0\n",
      "Function Evaluations. . 16\n",
      "Gradient Evaluations. . 16\n",
      "Basis Time. . . . . . . 0.000000\n",
      "Total Time. . . . . . . 0.000000\n",
      "Residual. . . . . . . . 3.145731e-12\n",
      "Postsolved residual: 3.1457e-12\n"
     ]
    }
   ],
   "source": [
    "mcp_model = MCPModel()\n",
    "\n",
    "@variables(mcp_model,begin\n",
    "    P_G>=1e-5, (start=1-pi,)\t#Price index for consumption on a good day,\n",
    "    P_B>=1e-5, (start=pi,)\t#Price index for consumption on a bad day,\n",
    "    C_G, (start=1-pi + pi*(1-L),)\t#Consumption in the good day,\n",
    "    C_B, (start=1-pi + pi*(1-L),)\t#Consumption in the bad day,\n",
    "    P_C>=1e-5, (start=1,)\t#Consumption price index,\n",
    "    M, (start=1-pi + pi*(1-L),)\t#Income,\n",
    "    K>=0, (start = (1-pi + pi*(1-L) - (1-L))/(1-pi),)\t#Coverage\n",
    "    GAMMA>=0\t#Premium for coverage\n",
    "    PROFIT\t#Firm profit\n",
    "end)\n",
    "\n",
    "\n",
    "@NLexpressions(mcp_model,begin\n",
    "    income, M - P_G - P_B*(1-L)\n",
    "    P_Cdef, P_C - ( (1-pi)*(P_G/(1-pi))^(1-σ) + pi * (P_B/pi)^(1-σ))^(1/(1-σ))\n",
    "    C_Gdef, C_G - ( M/P_C * (P_C*(1-pi)/P_G)^σ)\n",
    "    C_Bdef, C_B - ( M/P_C * (P_C*pi/P_B)^σ)\n",
    "    market_G, 1 - ( C_G + GAMMA*K)\n",
    "    market_B, 1 - L + K - ( C_B + GAMMA*K)\n",
    "    demand_K, GAMMA*(P_G+P_B) - P_B\n",
    "    profitdef, PROFIT - (GAMMA - pi) * (K-kvalue*(nfirm-1)/nfirm)\n",
    "    gamma_eq, 0\n",
    "end)\n",
    "\n",
    "@complementarity(mcp_model,income,M)\n",
    "@complementarity(mcp_model,P_Cdef,P_C)\n",
    "@complementarity(mcp_model,market_G,P_G)\n",
    "@complementarity(mcp_model,market_B,P_B)\n",
    "@complementarity(mcp_model,C_Gdef,C_G)\n",
    "@complementarity(mcp_model,C_Bdef,C_B)\n",
    "@complementarity(mcp_model,demand_K,K)\n",
    "@complementarity(mcp_model,profitdef,PROFIT)\n",
    "@complementarity(mcp_model,gamma_eq,GAMMA)\n",
    "\n",
    "\n",
    "fix(GAMMA,pi,force=true)\n",
    "\n",
    "solveMCP(mcp_model)\n",
    "\n",
    "mcp_sol = Dict(\n",
    "    :P_G=> .99,\n",
    "    :P_B=> .01,\n",
    "    :C_G=> .995,\n",
    "    :C_B=> .995,\n",
    "    :P_C=> 1,\n",
    "    :M=> .995,\n",
    "    :K=> .5,\n",
    "    :GAMMA=> .01,\n",
    "    :PROFIT=> 0\n",
    ")\n",
    "\n",
    "for (var,sol) in mcp_sol\n",
    "    @assert isapprox(sol,result_value(mcp_model[var]),atol=1e-8) \"Variable, $var, doesn't match in 13-NashInsurance\"\n",
    "end\n",
    "\n"
   ]
  },
  {
   "cell_type": "code",
   "execution_count": 46,
   "metadata": {},
   "outputs": [
    {
     "data": {
      "text/plain": [
       "Nash (generic function with 1 method)"
      ]
     },
     "metadata": {},
     "output_type": "display_data"
    }
   ],
   "source": [
    "function Nash()\n",
    "\n",
    "    model = Model(Ipopt.Optimizer)\n",
    "\n",
    "    @variables(model,begin\n",
    "        P_G>=1e-5, (start=1-pi,)\t#Price index for consumption on a good day,\n",
    "        P_B>=1e-5, (start=pi,)\t#Price index for consumption on a bad day,\n",
    "        C_G, (start=1-pi + pi*(1-L),)\t#Consumption in the good day,\n",
    "        C_B, (start=1-pi + pi*(1-L),)\t#Consumption in the bad day,\n",
    "        P_C>=1e-5, (start=1,)\t#Consumption price index,\n",
    "        M, (start=1-pi + pi*(1-L),)\t#Income,\n",
    "        K>=0, (start = (1-pi + pi*(1-L) - (1-L))/(1-pi),)\t#Coverage\n",
    "        0<=GAMMA<=gammamax, (start=gammamax/2,)\t#Premium for coverage\n",
    "        PROFIT\t#Firm profit\n",
    "    end)\n",
    "\n",
    "\n",
    "    @NLconstraints(model,begin\n",
    "        income, M == P_G + P_B*(1-L)\n",
    "        P_Cdef, P_C == ( (1-pi)*(P_G/(1-pi))^(1-σ) + pi * (P_B/pi)^(1-σ))^(1/(1-σ))\n",
    "        C_Gdef, C_G == ( M/P_C * (P_C*(1-pi)/P_G)^σ)\n",
    "        C_Bdef, C_B == ( M/P_C * (P_C*pi/P_B)^σ)\n",
    "        market_G, 1 == ( C_G + GAMMA*K)\n",
    "        market_B, 1 - L + K == ( C_B + GAMMA*K)\n",
    "        demand_K, GAMMA*(P_G+P_B) == P_B\n",
    "        profitdef, PROFIT == (GAMMA - pi) * (K-kvalue*(nfirm-1)/nfirm)\n",
    "    end)\n",
    "\n",
    "    @objective(model,Max,PROFIT)\n",
    "\n",
    "    return model\n",
    "\n",
    "end"
   ]
  },
  {
   "cell_type": "code",
   "execution_count": 66,
   "metadata": {},
   "outputs": [],
   "source": [
    "kvalue = result_value(mcp_model[:K])\n",
    "iterlog = Dict()\n",
    "equil = Dict()\n",
    "\n",
    "for n = 1:15\n",
    "\n",
    "    dev = 1\n",
    "    nfirm = n\n",
    "\n",
    "    for iter = 1:25\n",
    "\n",
    "        N = Nash()\n",
    "        set_silent(N)\n",
    "        optimize!(N)\n",
    "\n",
    "        iterlog[n,iter] = Dict()\n",
    "\n",
    "        iterlog[n,iter][:dev] = dev;\n",
    "        iterlog[n,iter][:K] =value(N[:K]);\n",
    "        iterlog[n,iter][\"K/L\"] =value(N[:K])/L;\n",
    "        iterlog[n,iter][:GAMMA] =value(N[:GAMMA]);\n",
    "        iterlog[n,iter][:PROFIT] = (value(N[:GAMMA]) - pi) *value(N[:K]);\n",
    "        iterlog[n,iter][\"P_B/pi\"] =value(N[:P_B])/pi;\n",
    "\n",
    "        equil[n] = Dict()\n",
    "        equil[n][:dev] = dev;\n",
    "        equil[n][:K] =value(N[:K]);\n",
    "        equil[n][\"K/L\"] =value(N[:K])/L;\n",
    "        equil[n][:GAMMA] =value(N[:GAMMA]);\n",
    "        equil[n][:PROFIT] = (value(N[:GAMMA]) - pi) *value(N[:K]);\n",
    "        equil[n][\"P_B/pi\"] =value(N[:P_B])/pi;\n",
    "        equil[n][\"C_G\"] = value(N[:C_G])\n",
    "        equil[n][\"C_B\"] = value(N[:C_B])\n",
    "\n",
    "        dev = abs(kvalue - value(N[:K]));\n",
    "        kvalue = value(N[:K])\n",
    "\n",
    "        if dev < 1e-5\n",
    "            break\n",
    "        end\n",
    "\n",
    "    end\n",
    "\n",
    "end\n"
   ]
  },
  {
   "cell_type": "code",
   "execution_count": 67,
   "metadata": {},
   "outputs": [
    {
     "data": {
      "text/plain": [
       "Dict{Any, Any} with 6 entries:\n",
       "  \"P_B/pi\" => 7.49876\n",
       "  :PROFIT  => 0.000634239\n",
       "  :K       => 0.364902\n",
       "  :GAMMA   => 0.0117381\n",
       "  :dev     => 1\n",
       "  \"K/L\"    => 0.729803"
      ]
     },
     "metadata": {},
     "output_type": "display_data"
    }
   ],
   "source": [
    "iterlog[1,1]"
   ]
  },
  {
   "cell_type": "code",
   "execution_count": 68,
   "metadata": {},
   "outputs": [
    {
     "data": {
      "text/plain": [
       "Dict{Any, Any} with 8 entries:\n",
       "  \"P_B/pi\" => 7.49876\n",
       "  \"C_B\"    => 0.860618\n",
       "  :PROFIT  => 0.000634239\n",
       "  :K       => 0.364902\n",
       "  :GAMMA   => 0.0117381\n",
       "  \"C_G\"    => 0.995717\n",
       "  :dev     => 0.135098\n",
       "  \"K/L\"    => 0.729803"
      ]
     },
     "metadata": {},
     "output_type": "display_data"
    }
   ],
   "source": [
    "equil[1]"
   ]
  },
  {
   "cell_type": "code",
   "execution_count": 65,
   "metadata": {},
   "outputs": [
    {
     "data": {
      "text/plain": [
       "352-element Vector{Any}:\n",
       " (1, 1)\n",
       " (1, 2)\n",
       " (2, 1)\n",
       " (2, 2)\n",
       " (2, 3)\n",
       " (2, 4)\n",
       " (2, 5)\n",
       " (2, 6)\n",
       " (2, 7)\n",
       " (2, 8)\n",
       " ⋮\n",
       " (15, 17)\n",
       " (15, 18)\n",
       " (15, 19)\n",
       " (15, 20)\n",
       " (15, 21)\n",
       " (15, 22)\n",
       " (15, 23)\n",
       " (15, 24)\n",
       " (15, 25)"
      ]
     },
     "metadata": {},
     "output_type": "display_data"
    }
   ],
   "source": [
    "sort(collect(keys(iterlog)))"
   ]
  }
 ],
 "metadata": {
  "kernelspec": {
   "display_name": "Julia 1.9.2",
   "language": "julia",
   "name": "julia-1.9"
  },
  "language_info": {
   "file_extension": ".jl",
   "mimetype": "application/julia",
   "name": "julia",
   "version": "1.9.2"
  },
  "orig_nbformat": 4
 },
 "nbformat": 4,
 "nbformat_minor": 2
}
