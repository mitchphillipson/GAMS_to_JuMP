{
 "cells": [
  {
   "cell_type": "code",
   "execution_count": 1,
   "metadata": {},
   "outputs": [],
   "source": [
    "import gamstransfer as gt"
   ]
  },
  {
   "cell_type": "code",
   "execution_count": 2,
   "metadata": {},
   "outputs": [
    {
     "name": "stdout",
     "output_type": "stream",
     "text": [
      "--- Warning: The GAMS version (41.1.0) differs from the API version (41.0.0).\n",
      "--- Warning: The GAMS version (41.1.0) differs from the API version (41.0.0).\n"
     ]
    }
   ],
   "source": [
    "w = gt.Container(\"data.gdx\")"
   ]
  },
  {
   "cell_type": "code",
   "execution_count": 3,
   "metadata": {},
   "outputs": [
    {
     "data": {
      "text/plain": [
       "dict_keys(['day'])"
      ]
     },
     "execution_count": 3,
     "metadata": {},
     "output_type": "execute_result"
    }
   ],
   "source": [
    "w.data.keys()"
   ]
  },
  {
   "cell_type": "code",
   "execution_count": 4,
   "metadata": {},
   "outputs": [],
   "source": [
    "w['day'].records.to_csv(\"data/day.csv\",index=False)"
   ]
  },
  {
   "cell_type": "code",
   "execution_count": 10,
   "metadata": {},
   "outputs": [],
   "source": [
    "w['tavg'].records.to_csv(\"data/tavg.csv\",index=False)\n",
    "w['yr'].records.to_csv(\"data/yr.csv\",index=False)\n",
    "w['m'].records.to_csv(\"data/m.csv\",index=False)\n",
    "w['dm'].records.to_csv(\"data/dm.csv\",index=False)"
   ]
  },
  {
   "cell_type": "code",
   "execution_count": null,
   "metadata": {},
   "outputs": [],
   "source": []
  }
 ],
 "metadata": {
  "kernelspec": {
   "display_name": "gams41",
   "language": "python",
   "name": "python3"
  },
  "language_info": {
   "codemirror_mode": {
    "name": "ipython",
    "version": 3
   },
   "file_extension": ".py",
   "mimetype": "text/x-python",
   "name": "python",
   "nbconvert_exporter": "python",
   "pygments_lexer": "ipython3",
   "version": "3.9.13"
  },
  "orig_nbformat": 4,
  "vscode": {
   "interpreter": {
    "hash": "2d8148a8a31ef43057a38d74919842836b9e63bf1d1d4aa18fbf63959bc65a17"
   }
  }
 },
 "nbformat": 4,
 "nbformat_minor": 2
}
