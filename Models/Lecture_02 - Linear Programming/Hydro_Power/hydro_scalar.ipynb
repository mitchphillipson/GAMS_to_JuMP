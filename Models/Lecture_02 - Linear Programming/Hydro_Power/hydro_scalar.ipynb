{
 "cells": [
  {
   "cell_type": "code",
   "execution_count": 1,
   "metadata": {},
   "outputs": [],
   "source": [
    "using JuMP\n",
    "using Clp"
   ]
  },
  {
   "cell_type": "code",
   "execution_count": 7,
   "metadata": {},
   "outputs": [
    {
     "name": "stdout",
     "output_type": "stream",
     "text": [
      "Coin0506I Presolve 6 (0) rows, 12 (-6) columns and 20 (-6) elements\n",
      "Clp0006I 0  Obj -0 Primal inf 34906.094 (1) Dual inf 35.950619 (4)\n",
      "Clp0006I 9  Obj 815000\n",
      "Clp0000I Optimal - objective value 815000\n",
      "Coin0511I After Postsolve, objective 815000, infeasibilities - dual 0 (0), primal 0 (0)\n",
      "Clp0032I Optimal objective 815000 - 9 iterations time 0.002, Presolve 0.00\n"
     ]
    },
    {
     "data": {
      "text/plain": [
       "* Solver : Clp\n",
       "\n",
       "* Status\n",
       "  Result count       : 1\n",
       "  Termination status : OPTIMAL\n",
       "  Message from the solver:\n",
       "  \"0 - optimal\"\n",
       "\n",
       "* Candidate solution (result #1)\n",
       "  Primal status      : FEASIBLE_POINT\n",
       "  Dual status        : FEASIBLE_POINT\n",
       "  Objective value    : 8.15000e+05\n",
       "\n",
       "* Work counters\n",
       "  Solve time (sec)   : 0.00000e+00\n"
      ]
     },
     "metadata": {},
     "output_type": "display_data"
    }
   ],
   "source": [
    "m = Model(Clp.Optimizer)\n",
    "\n",
    "@variables(m,begin\n",
    "    PA_MAR>=0 #Power production -- plant A in March\n",
    "    PA_APR>=0 #Power production -- plant A in April\n",
    "    PB_MAR>=0 #Power production -- plant B in March\n",
    "    PB_APR>=0 #Power production -- plant B in April\n",
    "    SA_MAR>=0 #Water spilled -- reservior A in March\n",
    "    SA_APR>=0 #Water spilled -- reservior A in April\n",
    "    SB_MAR>=0 #Water spilled -- reservior B in March\n",
    "    SB_APR>=0 #Water spilled -- reservior B in April\n",
    "    LA_MAR>=0 #Level -- reservior A start of March (exogenous)\n",
    "    LA_APR>=0 #Level -- reservior A start of April\n",
    "    LA_MAY>=0 #Level -- reservior A start of May\n",
    "    LB_MAR>=0 #Level -- reservior A start of March (exogenous)\n",
    "    LB_APR>=0 #Level -- reservior A start of April\n",
    "    LB_MAY>=0 #Level -- reservior A start of May\n",
    "    EH_MAR>=0 #High value electricity generation -- March\n",
    "    EL_MAR>=0 #Low value electricity generation -- March\n",
    "    EH_APR>=0 #High value electricity generation -- April\n",
    "    EL_APR>=0 #Low value electricity generation -- April\n",
    "end)\n",
    "\n",
    "\n",
    "# Levels at the beginning of March are specified exogenously:\n",
    "fix(LA_MAR,1900,force=true)\n",
    "fix(LB_MAR, 850,force=true)\n",
    "# Power can be sold at CHF 5 per MWH up to 50,000 MWH per month:\n",
    "set_upper_bound(EH_MAR, 50000)\n",
    "set_upper_bound(EH_APR, 50000)\n",
    "# Storage capacity:\n",
    "set_upper_bound(LA_APR, 2000)\n",
    "set_upper_bound(LA_MAY, 2000)\n",
    "set_upper_bound(LB_APR, 1500)\n",
    "set_upper_bound(LB_MAY, 1500)\n",
    "# Minimum reservior levels:\n",
    "set_lower_bound(LA_APR, 1200)\n",
    "set_lower_bound(LA_MAY, 1200)\n",
    "set_lower_bound(LB_APR, 800)\n",
    "set_lower_bound(LB_MAY, 800)\n",
    "# Power plant capacities:\n",
    "set_upper_bound(PA_MAR, 60000)\n",
    "set_upper_bound(PA_APR, 60000)\n",
    "set_upper_bound(PB_MAR, 35000)\n",
    "set_upper_bound(PB_APR, 35000)\n",
    "\n",
    "\n",
    "@objective(m,Max, 5*(EH_MAR+EH_APR) + 3.5*(EL_MAR+EL_APR))\n",
    "\n",
    "@constraints(m,begin\n",
    "    sales_mar, EH_MAR + EL_MAR == PA_MAR + PB_MAR\n",
    "    sales_apr, EH_APR + EL_APR == PA_APR + PB_APR\n",
    "    \n",
    "    alevel_apr, LA_APR == LA_MAR + 200 - SA_MAR - PA_MAR / 400\n",
    "    alevel_may, LA_MAY == LA_APR + 130 - SA_APR - PA_APR / 400\n",
    "    blevel_apr, LB_APR == LB_MAR + 40 + SA_MAR - SB_MAR - PB_MAR / 200\n",
    "    blevel_may, LB_MAY == LB_APR + 15 + SA_APR - SB_APR - PB_APR / 200\n",
    "end)\n",
    "\n",
    "optimize!(m)\n",
    "\n",
    "solution_summary(m)"
   ]
  },
  {
   "cell_type": "code",
   "execution_count": 9,
   "metadata": {},
   "outputs": [
    {
     "name": "stdout",
     "output_type": "stream",
     "text": [
      "PA_MAR = 60000.0\n",
      "PA_APR = 60000.0\n",
      "PB_MAR = 34999.99999999999\n",
      "PB_APR = 34999.99999999999\n",
      "SA_MAR = 730.0\n",
      "SA_APR = 0.0\n",
      "SB_MAR = 485.0\n",
      "SB_APR = 0.0\n",
      "LA_MAR = 1900.0\n",
      "LA_APR = 1220.0\n",
      "LA_MAY = 1200.0\n",
      "LB_MAR = 850.0\n",
      "LB_APR = 960.0\n",
      "LB_MAY = 800.0\n",
      "EH_MAR = 50000.0\n",
      "EL_MAR = 44999.99999999999\n",
      "EH_APR = 50000.0\n",
      "EL_APR = 44999.99999999999\n"
     ]
    }
   ],
   "source": [
    "for var in all_variables(m)\n",
    "    println(\"$var = $(value(var))\")\n",
    "end"
   ]
  },
  {
   "cell_type": "code",
   "execution_count": null,
   "metadata": {},
   "outputs": [],
   "source": []
  }
 ],
 "metadata": {
  "kernelspec": {
   "display_name": "Julia 1.8.0",
   "language": "julia",
   "name": "julia-1.8"
  },
  "language_info": {
   "file_extension": ".jl",
   "mimetype": "application/julia",
   "name": "julia",
   "version": "1.8.0"
  },
  "orig_nbformat": 4,
  "vscode": {
   "interpreter": {
    "hash": "ac97efbb835636f86a63c8ea0f697df920e29bf5635b42fc776c23a62298ea01"
   }
  }
 },
 "nbformat": 4,
 "nbformat_minor": 2
}
