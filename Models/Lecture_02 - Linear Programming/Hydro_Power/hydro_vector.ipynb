{
 "cells": [
  {
   "attachments": {},
   "cell_type": "markdown",
   "metadata": {},
   "source": [
    "# Hydro Power Planning Model -- Vector Format"
   ]
  },
  {
   "cell_type": "code",
   "execution_count": 79,
   "metadata": {},
   "outputs": [],
   "source": [
    "using GamsStructure\n",
    "using JuMP\n",
    "using Clp"
   ]
  },
  {
   "attachments": {},
   "cell_type": "markdown",
   "metadata": {},
   "source": [
    "Creating sets and parameters from scratch, rather than loading from a file."
   ]
  },
  {
   "cell_type": "code",
   "execution_count": 80,
   "metadata": {},
   "outputs": [
    {
     "data": {
      "text/plain": [
       "2-element Vector{Float64}:\n",
       " 400.0\n",
       " 200.0"
      ]
     },
     "metadata": {},
     "output_type": "display_data"
    }
   ],
   "source": [
    "GU = GamsUniverse()\n",
    "\n",
    "@GamsSet(GU,:r,\"Reserviors\",begin\n",
    "    A,\"\"\n",
    "    B,\"\"\n",
    "end)\n",
    "\n",
    "@GamsSet(GU,:t,\"All time periods\",begin\n",
    "    march, \"\"\n",
    "    april, \"\"\n",
    "    may, \"\"\n",
    "end)\n",
    "\n",
    "@GamsSet(GU,:tf,\"First Period\",begin\n",
    "    march, \"\"\n",
    "end)\n",
    "\n",
    "@GamsSet(GU,:tp,\"time periods in planning horizon\",begin\n",
    "    march, \"\"\n",
    "    april, \"\"\n",
    "end)\n",
    "\n",
    "@GamsSet(GU,:i,\"Types of power\",begin\n",
    "    high,\"\"\n",
    "    low, \"\"\n",
    "end)\n",
    "\n",
    "@GamsSet(GU,:data_domain, \"GAMS has universe, this is explicit\",begin\n",
    "    res_cap,\"\"\n",
    "    minimum,\"\"\n",
    "    march,\"\"\n",
    "    april,\"\"\n",
    "    level,\"\"\n",
    "    convrate,\"\"\n",
    "    pow_cap,\"\"\n",
    "end)\n",
    "\n",
    "@GamsParameters(GU,begin\n",
    "    :price, (:i,), \"Power Prices\"\n",
    "    :data, (:data_domain,:r), \"Summary of relevant data\"\n",
    "    :htr, (:r,), \"Heat rate\"\n",
    "end)\n",
    "\n",
    "\n",
    "GU[:price][[:high]] = 5.0\n",
    "GU[:price][[:low]] = 3.5\n",
    "\n",
    "GU[:data][[:res_cap],[:A]] = 2000\n",
    "GU[:data][[:res_cap],[:B]] = 1500\n",
    "GU[:data][[:minimum],[:A]] = 1200\n",
    "GU[:data][[:minimum],[:B]] = 800\n",
    "GU[:data][[:march],[:A]] = 200\n",
    "GU[:data][[:march],[:B]] = 40\n",
    "GU[:data][[:april],[:A]] = 130\n",
    "GU[:data][[:april],[:B]] = 15\n",
    "GU[:data][[:level],[:A]] = 1900\n",
    "GU[:data][[:level],[:B]] = 850\n",
    "GU[:data][[:convrate],[:A]] = 400\n",
    "GU[:data][[:convrate],[:B]] = 200\n",
    "GU[:data][[:pow_cap],[:A]] = 60000\n",
    "GU[:data][[:pow_cap],[:B]] = 35000\n",
    "\n",
    "\n",
    "GU[:htr][:r] = GU[:data][[:convrate],:r]"
   ]
  },
  {
   "cell_type": "code",
   "execution_count": 106,
   "metadata": {},
   "outputs": [
    {
     "name": "stdout",
     "output_type": "stream",
     "text": [
      "Coin0506I Presolve 6 (0) rows, 12 (-10) columns and 20 (-6) elements\n",
      "Clp0006I 0  Obj -0 Primal inf 34906.094 (1) Dual inf 35.950619 (4)\n",
      "Clp0006I 9  Obj 815000\n",
      "Clp0000I Optimal - objective value 815000\n",
      "Coin0511I After Postsolve, objective 815000, infeasibilities - dual 0 (0), primal 0 (0)\n",
      "Clp0032I Optimal objective 815000 - 9 iterations time 0.002, Presolve 0.00\n"
     ]
    },
    {
     "data": {
      "text/plain": [
       "* Solver : Clp\n",
       "\n",
       "* Status\n",
       "  Result count       : 1\n",
       "  Termination status : OPTIMAL\n",
       "  Message from the solver:\n",
       "  \"0 - optimal\"\n",
       "\n",
       "* Candidate solution (result #1)\n",
       "  Primal status      : FEASIBLE_POINT\n",
       "  Dual status        : FEASIBLE_POINT\n",
       "  Objective value    : 8.15000e+05\n",
       "\n",
       "* Work counters\n",
       "  Solve time (sec)   : 0.00000e+00\n"
      ]
     },
     "metadata": {},
     "output_type": "display_data"
    }
   ],
   "source": [
    "m = Model(Clp.Optimizer)\n",
    "\n",
    "R = [r for r in GU[:r]]\n",
    "T = [t for t in GU[:t]]\n",
    "I = [i for i in GU[:i]]\n",
    "TP = [t for t in GU[:tp]]\n",
    "TF = [t for t in GU[:tf]]\n",
    "\n",
    "\"\"\"\n",
    "Define the variables. The \"non-negative\" is incorporated by setting a lower\n",
    "bound >=0. Below, I recreate the model incorporating all bounds directly \n",
    "rather than doing later.\n",
    "\"\"\"\n",
    "\n",
    "@variables(m,begin\n",
    "    P[R,T]>=0  #Power Production\n",
    "    S[R,T]>=0  #Water Spilled\n",
    "    L[R,T]>=0  #Reservior Level (start of month)\n",
    "    E[I,TP]>=0 #Electricity geneartion\n",
    "end)\n",
    "\n",
    "set_upper_bound.(E[:high,TP],50000)\n",
    "\n",
    "set_upper_bound.(L[R,T],GU[:data][[:res_cap],R])\n",
    "set_lower_bound.(L[R,T],GU[:data][[:minimum],R])\n",
    "fix.(L[R,TF],GU[:data][[:level],R],force = true)\n",
    "\n",
    "set_upper_bound.(P[R,TP],GU[:data][[:pow_cap],R])\n",
    "\n",
    "\n",
    "@objective(m,Max,sum(GU[:price][[i]]*E[i,tp] for i∈I,tp∈TP))\n",
    "\n",
    "\n",
    "\"\"\"\n",
    "In GAMS, Tom is using S(r-1,t) and L(r,t+1). That is (currently) handled by \n",
    "a dictionary pointing at the correct location. \n",
    "\"\"\"\n",
    "prev_month = Dict(zip(T[begin+1:end],T[begin:end-1]))\n",
    "reservoirs = Dict(zip(R[begin+1:end],R[begin:end-1]))\n",
    "\n",
    "\"\"\"\n",
    "Julia doesn't like conditions in constraints. This is a workaround. Pull out\n",
    "the S's that are useful and have 0 elsewhere.\n",
    "\"\"\"\n",
    "condition = Dict((r,t) => r∈keys(reservoirs) ? S[reservoirs[r],t] : 0 for (r,t) in Iterators.product(R,T))\n",
    "\n",
    "@constraints(m,begin\n",
    "    sales[tp = TP], sum(E[I,tp]) == sum(P[R,tp])\n",
    "    level[r=R,t=keys(prev_month)], L[r,t] == L[r,prev_month[t]] + GU[:data][[prev_month[t]],[r]] - S[r,prev_month[t]] - P[r,prev_month[t]]/GU[:htr][[r]] + condition[r,prev_month[t]] \n",
    "end)\n",
    "\n",
    "#Uncomment these fixed variables to see a different optimal solution.\n",
    "\n",
    "#fix(S[:A,:march],570,force=true)\n",
    "#fix(S[:A,:april],160,force=true)\n",
    "\n",
    "optimize!(m)\n",
    "solution_summary(m)\n",
    "\n"
   ]
  },
  {
   "cell_type": "code",
   "execution_count": 93,
   "metadata": {},
   "outputs": [
    {
     "name": "stdout",
     "output_type": "stream",
     "text": [
      "P[A,march] = 60000.0\n",
      "P[B,march] = 35000.0\n",
      "P[A,april] = 60000.0\n",
      "P[B,april] = 35000.0\n",
      "P[A,may] = 0.0\n",
      "P[B,may] = 0.0\n",
      "S[A,march] = 570.0\n",
      "S[B,march] = 485.0\n",
      "S[A,april] = 160.0\n",
      "S[B,april] = 0.0\n",
      "S[A,may] = 0.0\n",
      "S[B,may] = 0.0\n",
      "L[A,march] = 1900.0\n",
      "L[B,march] = 850.0\n",
      "L[A,april] = 1380.0\n",
      "L[B,april] = 800.0\n",
      "L[A,may] = 1200.0\n",
      "L[B,may] = 800.0\n",
      "E[high,march] = 50000.0\n",
      "E[low,march] = 45000.0\n",
      "E[high,april] = 50000.0\n",
      "E[low,april] = 45000.0\n"
     ]
    }
   ],
   "source": [
    "for var in all_variables(m)\n",
    "    println(\"$var = $(value(var))\")\n",
    "end"
   ]
  },
  {
   "attachments": {},
   "cell_type": "markdown",
   "metadata": {},
   "source": [
    "# A second model definition\n",
    "\n",
    "This definition includes most of the bounds directly in variable definition."
   ]
  },
  {
   "cell_type": "code",
   "execution_count": 110,
   "metadata": {},
   "outputs": [
    {
     "name": "stdout",
     "output_type": "stream",
     "text": [
      "Coin0506I Presolve 6 (0) rows, 12 (-10) columns and 20 (-6) elements\n",
      "Clp0006I 0  Obj -0 Primal inf 34906.094 (1) Dual inf 35.950619 (4)\n",
      "Clp0006I 9  Obj 815000\n",
      "Clp0000I Optimal - objective value 815000\n",
      "Coin0511I After Postsolve, objective 815000, infeasibilities - dual 0 (0), primal 0 (0)\n",
      "Clp0032I Optimal objective 815000 - 9 iterations time 0.002, Presolve 0.00\n"
     ]
    },
    {
     "data": {
      "text/plain": [
       "* Solver : Clp\n",
       "\n",
       "* Status\n",
       "  Result count       : 1\n",
       "  Termination status : OPTIMAL\n",
       "  Message from the solver:\n",
       "  \"0 - optimal\"\n",
       "\n",
       "* Candidate solution (result #1)\n",
       "  Primal status      : FEASIBLE_POINT\n",
       "  Dual status        : FEASIBLE_POINT\n",
       "  Objective value    : 8.15000e+05\n",
       "\n",
       "* Work counters\n",
       "  Solve time (sec)   : 0.00000e+00\n"
      ]
     },
     "metadata": {},
     "output_type": "display_data"
    }
   ],
   "source": [
    "m2 = Model(Clp.Optimizer)\n",
    "\n",
    "R = [r for r in GU[:r]]\n",
    "T = [t for t in GU[:t]]\n",
    "I = [i for i in GU[:i]]\n",
    "TP = [t for t in GU[:tp]]\n",
    "TF = [t for t in GU[:tf]]\n",
    "\n",
    "\"\"\"\n",
    "Define the variables. The \"non-negative\" is incorporated by setting a lower\n",
    "bound >=0. Below, I recreate the model incorporating all bounds directly \n",
    "rather than doing later.\n",
    "\"\"\"\n",
    "\n",
    "@variables(m2,begin\n",
    "    0 <= P[r=R,T]<=GU[:data][[:pow_cap],[r]]  #Power Production\n",
    "    S[R,T]>=0  #Water Spilled\n",
    "    GU[:data][[:minimum],[r]]<=L[r=R,T]<=GU[:data][[:res_cap],[r]]  #Reservior Level (start of month)\n",
    "    E[I,TP]>=0 #Electricity geneartion\n",
    "end)\n",
    "\n",
    "set_upper_bound.(E[:high,TP],50000) #This needs to be here since it's only part of the variable\n",
    "\n",
    "fix.(L[R,TF],GU[:data][[:level],R],force = true)\n",
    "\n",
    "\n",
    "\n",
    "@objective(m2,Max,sum(GU[:price][[i]]*E[i,tp] for i∈I,tp∈TP))\n",
    "\n",
    "\n",
    "\"\"\"\n",
    "In GAMS, Tom is using S(r-1,t) and L(r,t+1). That is (currently) handled by \n",
    "a dictionary pointing at the correct location. \n",
    "\"\"\"\n",
    "prev_month = Dict(zip(T[begin+1:end],T[begin:end-1]))\n",
    "reservoirs = Dict(zip(R[begin+1:end],R[begin:end-1]))\n",
    "\n",
    "\"\"\"\n",
    "Julia doesn't like conditions in constraints. This is a workaround. Pull out\n",
    "the S's that are useful and have 0 elsewhere.\n",
    "\"\"\"\n",
    "condition = Dict((r,t) => r∈keys(reservoirs) ? S[reservoirs[r],t] : 0 for (r,t) in Iterators.product(R,T))\n",
    "\n",
    "@constraints(m2,begin\n",
    "    sales[tp = TP], sum(E[I,tp]) == sum(P[R,tp])\n",
    "    level[r=R,t=keys(prev_month)], L[r,t] == L[r,prev_month[t]] + GU[:data][[prev_month[t]],[r]] - S[r,prev_month[t]] - P[r,prev_month[t]]/GU[:htr][[r]] + condition[r,prev_month[t]] \n",
    "end)\n",
    "\n",
    "#Uncomment these fixed variables to see a different optimal solution.\n",
    "\n",
    "#fix(S[:A,:march],570,force=true)\n",
    "#fix(S[:A,:april],160,force=true)\n",
    "\n",
    "optimize!(m2)\n",
    "solution_summary(m2)\n",
    "\n"
   ]
  },
  {
   "cell_type": "code",
   "execution_count": 111,
   "metadata": {},
   "outputs": [
    {
     "name": "stdout",
     "output_type": "stream",
     "text": [
      "P[A,march] = 60000.0\n",
      "P[B,march] = 34999.99999999999\n",
      "P[A,april] = 60000.0\n",
      "P[B,april] = 34999.99999999999\n",
      "P[A,may] = 0.0\n",
      "P[B,may] = 0.0\n",
      "S[A,march] = 730.0\n",
      "S[B,march] = 485.0\n",
      "S[A,april] = 0.0\n",
      "S[B,april] = 0.0\n",
      "S[A,may] = 0.0\n",
      "S[B,may] = 0.0\n",
      "L[A,march] = 1900.0\n",
      "L[B,march] = 850.0\n",
      "L[A,april] = 1220.0\n",
      "L[B,april] = 960.0\n",
      "L[A,may] = 1200.0\n",
      "L[B,may] = 800.0\n",
      "E[high,march] = 50000.0\n",
      "E[low,march] = 44999.99999999999\n",
      "E[high,april] = 50000.0\n",
      "E[low,april] = 44999.99999999999\n"
     ]
    }
   ],
   "source": [
    "for var in all_variables(m2)\n",
    "    println(\"$var = $(value(var))\")\n",
    "end"
   ]
  }
 ],
 "metadata": {
  "kernelspec": {
   "display_name": "Julia 1.8.0",
   "language": "julia",
   "name": "julia-1.8"
  },
  "language_info": {
   "file_extension": ".jl",
   "mimetype": "application/julia",
   "name": "julia",
   "version": "1.8.0"
  },
  "orig_nbformat": 4,
  "vscode": {
   "interpreter": {
    "hash": "ac97efbb835636f86a63c8ea0f697df920e29bf5635b42fc776c23a62298ea01"
   }
  }
 },
 "nbformat": 4,
 "nbformat_minor": 2
}
