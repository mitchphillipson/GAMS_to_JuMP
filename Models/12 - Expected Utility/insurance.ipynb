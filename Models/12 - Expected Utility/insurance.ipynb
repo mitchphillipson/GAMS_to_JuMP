{
 "cells": [
  {
   "cell_type": "code",
   "execution_count": 1,
   "metadata": {},
   "outputs": [],
   "source": [
    "using JuMP\n",
    "using Ipopt\n",
    "using Complementarity"
   ]
  },
  {
   "cell_type": "code",
   "execution_count": 2,
   "metadata": {},
   "outputs": [
    {
     "data": {
      "text/plain": [
       "-1.0"
      ]
     },
     "metadata": {},
     "output_type": "display_data"
    }
   ],
   "source": [
    "GU = Dict(:pi => 0.01, :L => 0.5, :gamma => 0.02, :sigma => 0.5)\n",
    "\n",
    "GU[:rho] = 1 - 1/GU[:sigma]"
   ]
  },
  {
   "cell_type": "code",
   "execution_count": 3,
   "metadata": {},
   "outputs": [
    {
     "data": {
      "text/plain": [
       "equilibrium (generic function with 1 method)"
      ]
     },
     "metadata": {},
     "output_type": "display_data"
    }
   ],
   "source": [
    "function insurance(GU)\n",
    "\n",
    "    pi = GU[:pi]\n",
    "    L = GU[:L]\n",
    "    γ = GU[:gamma]\n",
    "    σ = GU[:sigma]\n",
    "    ρ = GU[:rho]\n",
    "\n",
    "    m = Model(Ipopt.Optimizer)\n",
    "\n",
    "    @variables(m,begin\n",
    "        C_G, (start=1,)\n",
    "        C_B, (start=1,)\n",
    "        K, (start=1,)\n",
    "    end)\n",
    "\n",
    "    @NLobjective(m,Max,(1-pi)* C_G^ρ/ρ+ pi*C_B^ρ/ρ)\n",
    "\n",
    "    @NLconstraints(m,begin\n",
    "        budget_G, C_G == 1-γ*K\n",
    "        budget_B, C_B == 1-L + (1-γ)*K\n",
    "    end)\n",
    "\n",
    "\n",
    "    return m\n",
    "end\n",
    "\n",
    "\n",
    "\n",
    "function insurance_ev(GU)\n",
    "    pi = GU[:pi]\n",
    "    L = GU[:L]\n",
    "    γ = GU[:gamma]\n",
    "    σ = GU[:sigma]\n",
    "    ρ = GU[:rho]\n",
    "\n",
    "    m = Model(Ipopt.Optimizer)\n",
    "\n",
    "    @variables(m,begin\n",
    "        C_G, (start=1,)\n",
    "        C_B, (start=1,)\n",
    "        K, (start=1,)\n",
    "    end)\n",
    "\n",
    "    @NLobjective(m,Max,100* (( (1-pi)*C_G^ρ + pi * C_B^ρ)^(1/ρ) - 1))\n",
    "\n",
    "    @NLconstraints(m,begin\n",
    "        budget_G, C_G == 1-γ*K\n",
    "        budget_B, C_B == 1-L + (1-γ)*K\n",
    "    end)\n",
    "\n",
    "\n",
    "    return m\n",
    "\n",
    "end\n",
    "\n",
    "function equilibrium(GU)\n",
    "    pi = GU[:pi]\n",
    "    L = GU[:L]\n",
    "    γ = GU[:gamma]\n",
    "    σ = GU[:sigma]\n",
    "    ρ = GU[:rho]\n",
    "\n",
    "    m = MCPModel()\n",
    "\n",
    "    @variables(m,begin\n",
    "        EU, (start=1,)\n",
    "        EV, (start=1,)\n",
    "        C_G, (start=1,)\n",
    "        C_B, (start=1,)\n",
    "        K, (start=1,)\n",
    "    end)\n",
    "\n",
    "    @mapping(m,eudef,EU - ((1-pi)* C_G^(ρ)/ρ+ pi*C_B^(ρ)/ρ))\n",
    "\n",
    "    @mapping(m,evdef, EV - 100* (( (1-pi)*C_G^ρ + pi * C_B^ρ)^(1/ρ) - 1))\n",
    "\n",
    "    @mapping(m,budget_G, C_G - (1-γ*K))\n",
    "\n",
    "    @mapping(m,budget_B, C_B - (1-L + (1-γ)*K))\n",
    "\n",
    "    @mapping(m,coverage, γ*((1-pi)*C_G^(ρ-1) + pi*C_B^(ρ-1)) - pi*C_B^(ρ-1))\n",
    "    \n",
    "    @complementarity(m,eudef,EU)\n",
    "    @complementarity(m,evdef,EV)\n",
    "    @complementarity(m,budget_G,C_G)\n",
    "    @complementarity(m,budget_B,C_B)\n",
    "    @complementarity(m,coverage,K)\n",
    "\n",
    "    return m\n",
    "end"
   ]
  },
  {
   "cell_type": "code",
   "execution_count": 4,
   "metadata": {},
   "outputs": [
    {
     "name": "stdout",
     "output_type": "stream",
     "text": [
      "\n",
      "******************************************************************************\n",
      "This program contains Ipopt, a library for large-scale nonlinear optimization.\n",
      " Ipopt is released as open source code under the Eclipse Public License (EPL).\n",
      "         For more information visit https://github.com/coin-or/Ipopt\n",
      "******************************************************************************\n",
      "\n",
      "Objective -> -1.0083430790292782\n"
     ]
    }
   ],
   "source": [
    "I = insurance(GU)\n",
    "set_silent(I)\n",
    "optimize!(I)\n",
    "\n",
    "println(\"Objective -> $(objective_value(I))\")\n",
    "\n"
   ]
  },
  {
   "cell_type": "code",
   "execution_count": 5,
   "metadata": {},
   "outputs": [
    {
     "name": "stdout",
     "output_type": "stream",
     "text": [
      "Objective -> -0.8274047992980704\n"
     ]
    }
   ],
   "source": [
    "I_ev = insurance_ev(GU)\n",
    "set_silent(I_ev)\n",
    "optimize!(I_ev)\n",
    "\n",
    "println(\"Objective -> $(objective_value(I_ev))\")"
   ]
  },
  {
   "cell_type": "code",
   "execution_count": 6,
   "metadata": {},
   "outputs": [
    {
     "name": "stdout",
     "output_type": "stream",
     "text": [
      "Path 5.0.03 (Fri Jun 26 10:05:33 2020)\n",
      "Written by Todd Munson, Steven Dirkse, Youngdae Kim, and Michael Ferris\n",
      "\n",
      "Crash Log\n",
      "major  func  diff  size  residual    step       prox   (label)\n",
      "    0     0             2.2871e+00             0.0e+00 (eudef)\n",
      "    1     1     0     5 5.2034e-01  1.0e+00    0.0e+00 (evdef)\n",
      "pn_search terminated: no basis change.\n",
      "\n",
      "Major Iteration Log\n",
      "major minor  func  grad  residual    step  type prox    inorm  (label)\n",
      "    0     0     2     2 5.2034e-01           I 0.0e+00 5.2e-01 (evdef)\n",
      "    1     1     3     3 1.0494e-01  1.0e+00 SO 0.0e+00 1.0e-01 (evdef)\n",
      "    2     1     4     4 1.8864e-02  1.0e+00 SO 0.0e+00 1.9e-02 (evdef)\n",
      "    3     1     5     5 6.1192e-04  1.0e+00 SO 0.0e+00 6.1e-04 (evdef)\n",
      "    4     1     6     6 5.9024e-07  1.0e+00 SO 0.0e+00 5.9e-07 (evdef)\n",
      "\n",
      "Major Iterations. . . . 4\n",
      "Minor Iterations. . . . 4\n",
      "Restarts. . . . . . . . 0\n",
      "Crash Iterations. . . . 1\n",
      "Gradient Steps. . . . . 0\n",
      "Function Evaluations. . 6\n",
      "Gradient Evaluations. . 6\n",
      "Basis Time. . . . . . . 0.000000\n",
      "Total Time. . . . . . . 0.031000\n",
      "Residual. . . . . . . . 5.902418e-07\n"
     ]
    }
   ],
   "source": [
    "c = equilibrium(GU)\n",
    "set_silent(c)\n",
    "\n",
    "solveMCP(c);\n",
    "\n"
   ]
  },
  {
   "cell_type": "code",
   "execution_count": 9,
   "metadata": {},
   "outputs": [
    {
     "name": "stdout",
     "output_type": "stream",
     "text": [
      "Var -> I      -> I_ev   -> Equi \n",
      "C_G -> 0.9959 -> 0.9959 -> 0.9959\n",
      "C_B -> 0.7006 -> 0.7006 -> 0.7006\n",
      "K -> 0.2047 -> 0.2047 -> 0.2047\n"
     ]
    }
   ],
   "source": [
    "println(\"Var -> I      -> I_ev   -> Equi \")\n",
    "for var in [:C_G,:C_B,:K]\n",
    "    i_v = round(value(I[var]),digits=4)\n",
    "    ie_v = round(value(I_ev[var]),digits=4)\n",
    "    c_v = round(result_value(c[var]),digits=4)\n",
    "    println(\"$var -> $(i_v) -> $(ie_v) -> $(c_v)\")\n",
    "end"
   ]
  },
  {
   "cell_type": "code",
   "execution_count": null,
   "metadata": {},
   "outputs": [],
   "source": []
  }
 ],
 "metadata": {
  "kernelspec": {
   "display_name": "Julia 1.9.2",
   "language": "julia",
   "name": "julia-1.9"
  },
  "language_info": {
   "file_extension": ".jl",
   "mimetype": "application/julia",
   "name": "julia",
   "version": "1.9.2"
  },
  "orig_nbformat": 4
 },
 "nbformat": 4,
 "nbformat_minor": 2
}
