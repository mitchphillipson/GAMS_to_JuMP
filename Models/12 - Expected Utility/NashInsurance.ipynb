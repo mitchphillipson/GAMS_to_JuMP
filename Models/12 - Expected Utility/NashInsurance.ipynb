{
 "cells": [
  {
   "cell_type": "code",
   "execution_count": 1,
   "metadata": {},
   "outputs": [],
   "source": [
    "using JuMP\n",
    "using Ipopt\n",
    "using Complementarity"
   ]
  },
  {
   "cell_type": "code",
   "execution_count": 38,
   "metadata": {},
   "outputs": [
    {
     "data": {
      "text/plain": [
       "0.5"
      ]
     },
     "metadata": {},
     "output_type": "display_data"
    }
   ],
   "source": [
    "GU = Dict(:pi => 0.01, :L=> 0.5, :sigma => 2, :kother=>.5)\n",
    "GU[:rho] = 1 - 1/GU[:sigma]"
   ]
  },
  {
   "cell_type": "code",
   "execution_count": 87,
   "metadata": {},
   "outputs": [
    {
     "data": {
      "text/plain": [
       "nash (generic function with 1 method)"
      ]
     },
     "metadata": {},
     "output_type": "display_data"
    }
   ],
   "source": [
    "function nash(GU)\n",
    "    \n",
    "    pi = GU[:pi]\n",
    "    L = GU[:L]\n",
    "    σ = GU[:sigma]\n",
    "    kother = GU[:kother]\n",
    "    ρ = GU[:rho]    \n",
    "\n",
    "    m = Model(Ipopt.Optimizer)\n",
    "    @variables(m,begin\n",
    "        C_G>=1e-5, (start = 1,)\n",
    "        C_B>=1e-5, (start = 1,)\n",
    "        Gamma>=0\n",
    "        K, (start = 1,)\n",
    "        EU>=(1-pi)*1^ρ/ρ + pi* *(1-L)^ρ/ρ\n",
    "    end)\n",
    "\n",
    "    @NLobjective(m,Max, (Gamma-pi)*(K-kother))\n",
    "\n",
    "    @NLconstraints(m,begin\n",
    "        eudef, EU == (1-pi)*C_G^ρ/ρ + pi * C_B^ρ/ρ\n",
    "        budget_G, C_G == 1-Gamma*K\n",
    "        budget_B, C_B == 1-L + (1-Gamma)*K\n",
    "        coverage, Gamma*((1-pi)*C_G^(ρ-1) + pi*C_B^(ρ-1)) >= pi*C_B^(ρ-1)\n",
    "    end)\n",
    "\n",
    "\n",
    "    return m\n",
    "end"
   ]
  },
  {
   "cell_type": "code",
   "execution_count": 88,
   "metadata": {},
   "outputs": [],
   "source": [
    "GU[:kother] = 0\n",
    "\n",
    "log = Dict()\n",
    "for n∈1:5\n",
    "    dev = 1\n",
    "    #GU[:kother] = \n",
    "    for iter∈1:25\n",
    "        if dev ≈ 0\n",
    "            break\n",
    "        end\n",
    "        Nash = nash(GU)\n",
    "        set_silent(Nash)\n",
    "        optimize!(Nash)\n",
    "\n",
    "        log[n,iter] = Dict(:dev => dev,\n",
    "            :K => value(Nash[:K]),\n",
    "            :Gamma => value(Nash[:Gamma]),\n",
    "            :Profit => objective_value(Nash),\n",
    "            :C_G => value(Nash[:C_G]),\n",
    "            :C_B => value(Nash[:C_B])\n",
    "        )\n",
    "\n",
    "        dev = abs(GU[:kother] - value(Nash[:K])*((n-1)/n))\n",
    "        GU[:kother] = value(Nash[:K])*((n-1)/n)\n",
    "    end\n",
    "end"
   ]
  },
  {
   "cell_type": "code",
   "execution_count": 91,
   "metadata": {},
   "outputs": [
    {
     "data": {
      "text/plain": [
       "Dict{Symbol, Float64} with 6 entries:\n",
       "  :Gamma  => 0.0104315\n",
       "  :C_B    => 1.45087\n",
       "  :K      => 0.960892\n",
       "  :Profit => 8.29436e-5\n",
       "  :dev    => 0.000131072\n",
       "  :C_G    => 0.989976"
      ]
     },
     "metadata": {},
     "output_type": "display_data"
    }
   ],
   "source": [
    "log[5,9]"
   ]
  },
  {
   "cell_type": "code",
   "execution_count": 77,
   "metadata": {},
   "outputs": [],
   "source": []
  }
 ],
 "metadata": {
  "kernelspec": {
   "display_name": "Julia 1.8.0",
   "language": "julia",
   "name": "julia-1.8"
  },
  "language_info": {
   "file_extension": ".jl",
   "mimetype": "application/julia",
   "name": "julia",
   "version": "1.8.0"
  },
  "orig_nbformat": 4
 },
 "nbformat": 4,
 "nbformat_minor": 2
}
