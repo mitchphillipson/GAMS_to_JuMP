{
 "cells": [
  {
   "cell_type": "code",
   "execution_count": 90,
   "metadata": {},
   "outputs": [],
   "source": [
    "using JuMP\n",
    "using Ipopt\n",
    "using Complementarity"
   ]
  },
  {
   "cell_type": "code",
   "execution_count": 91,
   "metadata": {},
   "outputs": [
    {
     "data": {
      "text/plain": [
       "0.5"
      ]
     },
     "metadata": {},
     "output_type": "display_data"
    }
   ],
   "source": [
    "GU = Dict(:pi => 0.01, :L=> 0.5, :sigma => 2, :kother=>.5)\n",
    "GU[:rho] = 1 - 1/GU[:sigma]"
   ]
  },
  {
   "cell_type": "code",
   "execution_count": 92,
   "metadata": {},
   "outputs": [
    {
     "data": {
      "text/plain": [
       "nash (generic function with 1 method)"
      ]
     },
     "metadata": {},
     "output_type": "display_data"
    }
   ],
   "source": [
    "function nash(GU)\n",
    "    \n",
    "    Pi = GU[:pi]\n",
    "    L = GU[:L]\n",
    "    σ = GU[:sigma]\n",
    "    kother = GU[:kother]\n",
    "    ρ = GU[:rho]    \n",
    "\n",
    "    m = Model(Ipopt.Optimizer)\n",
    "    @variables(m,begin\n",
    "        C_G>=1e-5, (start = 1,)\n",
    "        C_B>=1e-5, (start = 1,)\n",
    "        Gamma>=0, (start = Pi,)\n",
    "        K, (start = 1,)\n",
    "        EU >= (1-Pi)*1^ρ/ρ + Pi* *(1-L)^ρ/ρ\n",
    "    end)\n",
    "\n",
    "    @NLobjective(m,Max, (Gamma-Pi)*(K-kother))\n",
    "\n",
    "    @NLconstraints(m,begin\n",
    "        eudef, EU == (1-Pi)*C_G^ρ/ρ + Pi * C_B^ρ/ρ\n",
    "        budget_G, C_G == 1-Gamma*K\n",
    "        budget_B, C_B == 1-L + (1-Gamma)*K\n",
    "        coverage, Gamma*((1-Pi)*C_G^(ρ-1) + Pi*C_B^(ρ-1)) >= Pi*C_B^(ρ-1)\n",
    "    end)\n",
    "\n",
    "\n",
    "    return m\n",
    "end"
   ]
  },
  {
   "cell_type": "code",
   "execution_count": 111,
   "metadata": {},
   "outputs": [],
   "source": [
    "GU[:kother] = 0\n",
    "\n",
    "log = Dict()\n",
    "for n∈1:5\n",
    "    dev = 1\n",
    "    tmp = 0\n",
    "    for iter∈1:25\n",
    "        if isapprox(dev,0,atol=1e-4)\n",
    "            break\n",
    "        end\n",
    "        Nash = nash(GU)\n",
    "        set_silent(Nash)\n",
    "        optimize!(Nash)\n",
    "\n",
    "        log[n,iter] = Dict(\n",
    "            :dev => dev,\n",
    "            :K => value(Nash[:K]),\n",
    "            :Gamma => value(Nash[:Gamma]),\n",
    "            :Profit => objective_value(Nash),\n",
    "            :C_G => value(Nash[:C_G]),\n",
    "            :C_B => value(Nash[:C_B])\n",
    "        )\n",
    "\n",
    "        dev = abs(GU[:kother] - value(Nash[:K])*((n-1)/n))\n",
    "        GU[:kother] = value(Nash[:K])*((n-1)/n)\n",
    "\n",
    "        tmp = value(Nash[:K])*n/(n+1)\n",
    "    end\n",
    "    GU[:kother] = tmp\n",
    "end"
   ]
  },
  {
   "cell_type": "code",
   "execution_count": 112,
   "metadata": {},
   "outputs": [],
   "source": [
    "using CSV\n",
    "\n",
    "gams_log = Dict()\n",
    "for row in CSV.File(\"iterlog.csv\")\n",
    "    gams_log[row[:n],row[:iter]] = Dict(\n",
    "        :dev => row[:dev],\n",
    "        :K => row[:K],\n",
    "        :Gamma => row[:GAMMA],\n",
    "        :Profit => row[:PROFIT],\n",
    "        :C_B => row[:C_B],\n",
    "        :C_G => row[:C_G]\n",
    "    )\n",
    "end\n",
    "\n",
    "#CSV.File(\"iterlog.csv\")"
   ]
  },
  {
   "cell_type": "code",
   "execution_count": 113,
   "metadata": {},
   "outputs": [
    {
     "name": "stdout",
     "output_type": "stream",
     "text": [
      "3, 4, C_B, -0.3121897879519424\n",
      "3, 4, K, -0.3160213224911783\n",
      "3, 4, C_G, 0.0038315345392361255\n",
      "3, 5, C_B, -0.12155520518968976\n",
      "3, 5, K, -0.12263687717829386\n",
      "3, 5, dev, 0.20544438365120687\n",
      "3, 5, C_G, 0.0010816719886040937\n",
      "3, 6, C_B, -0.04633834577471685\n",
      "3, 6, K, -0.046744493878003834\n",
      "3, 6, dev, 0.12892296354192295\n",
      "3, 7, C_B, -0.01754458271783732\n",
      "3, 7, K, -0.01769748918168923\n",
      "3, 7, dev, 0.050594922200193404\n",
      "3, 8, C_B, -0.006624286739808971\n",
      "3, 8, K, -0.006681890269066182\n",
      "3, 8, dev, 0.019364669797543033\n",
      "3, 9, C_B, -0.002497031873212263\n",
      "3, 9, K, -0.0025187206121987105\n",
      "3, 9, dev, 0.007343732608415365\n"
     ]
    }
   ],
   "source": [
    "for (n,iter)∈ sort(collect(intersect(keys(log),keys(gams_log))))\n",
    "    for key in keys(log[n,iter])\n",
    "        if !isapprox(log[n,iter][key],gams_log[n,iter][key],atol=1e-3)\n",
    "            println(\"$n, $iter, $key, $(log[n,iter][key]-gams_log[n,iter][key])\")\n",
    "        end\n",
    "    end\n",
    "end"
   ]
  }
 ],
 "metadata": {
  "kernelspec": {
   "display_name": "Julia 1.9.2",
   "language": "julia",
   "name": "julia-1.9"
  },
  "language_info": {
   "file_extension": ".jl",
   "mimetype": "application/julia",
   "name": "julia",
   "version": "1.9.2"
  },
  "orig_nbformat": 4
 },
 "nbformat": 4,
 "nbformat_minor": 2
}
