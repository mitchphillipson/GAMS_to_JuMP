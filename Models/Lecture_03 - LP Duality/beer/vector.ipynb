{
 "cells": [
  {
   "attachments": {},
   "cell_type": "markdown",
   "metadata": {},
   "source": [
    "The GamsStucture package is a package I (Mitch) am developing specifically\n",
    "to bridge the gap between GAMS and Julia. It's incredibly useful for building\n",
    "vectorized models."
   ]
  },
  {
   "cell_type": "code",
   "execution_count": 1,
   "metadata": {},
   "outputs": [],
   "source": [
    "using JuMP\n",
    "using Clp\n",
    "\n",
    "using GamsStructure"
   ]
  },
  {
   "attachments": {},
   "cell_type": "markdown",
   "metadata": {},
   "source": [
    "This is where I initialize all the data. Define sets and parameters and set parameter values."
   ]
  },
  {
   "cell_type": "code",
   "execution_count": 2,
   "metadata": {},
   "outputs": [
    {
     "data": {
      "text/plain": [
       "1"
      ]
     },
     "metadata": {},
     "output_type": "display_data"
    }
   ],
   "source": [
    "GU = GamsUniverse()\n",
    "\n",
    "@GamsSet(GU,:j,\"Products\",begin\n",
    "    lager, \"\"\n",
    "    ale, \"\"\n",
    "end)\n",
    "\n",
    "@GamsSet(GU,:i,\"Ingredients\",begin\n",
    "    malt, \"Malt\"\n",
    "    yeast, \"Yeast\"\n",
    "    dehops, \"Germand Hops\"\n",
    "    wihops, \"Wisconsin Hops\"\n",
    "end)\n",
    "\n",
    "\n",
    "@GamsParameters(GU,begin\n",
    "    :p, (:j,), \"Profit by product\"\n",
    "    :s, (:i,), \"Supply by ingredient\"\n",
    "    :a, (:i,:j), \"Requirements\"\n",
    "end)\n",
    "\n",
    "\n",
    "GU[:p][[:lager]] = 120\n",
    "GU[:p][[:ale]] = 90\n",
    "\n",
    "GU[:s][[:malt]] = 4800\n",
    "GU[:s][[:yeast]] = 1750\n",
    "GU[:s][[:dehops]] = 1000\n",
    "GU[:s][[:wihops]] = 1750\n",
    "\n",
    "GU[:a][[:malt],[:lager]] = 4\n",
    "GU[:a][[:yeast],[:lager]] = 1\n",
    "GU[:a][[:dehops],[:lager]] = 1\n",
    "GU[:a][[:wihops],[:lager]] = 0\n",
    "\n",
    "GU[:a][[:malt],[:ale]] = 2\n",
    "GU[:a][[:yeast],[:ale]] = 1\n",
    "GU[:a][[:dehops],[:ale]] = 0\n",
    "GU[:a][[:wihops],[:ale]] = 1\n",
    "\n"
   ]
  },
  {
   "cell_type": "code",
   "execution_count": 3,
   "metadata": {},
   "outputs": [
    {
     "name": "stdout",
     "output_type": "stream",
     "text": [
      "Coin0506I Presolve 2 (-2) rows, 2 (0) columns and 4 (-2) elements\n",
      "Clp0006I 0  Obj -0 Dual inf 210 (2)\n",
      "Clp0006I 2  Obj 177000\n",
      "Clp0000I Optimal - objective value 177000\n",
      "Coin0511I After Postsolve, objective 177000, infeasibilities - dual 0 (0), primal 0 (0)\n",
      "Clp0032I Optimal objective 177000 - 2 iterations time 0.002, Presolve 0.00\n"
     ]
    },
    {
     "data": {
      "text/plain": [
       "* Solver : Clp\n",
       "\n",
       "* Status\n",
       "  Result count       : 1\n",
       "  Termination status : OPTIMAL\n",
       "  Message from the solver:\n",
       "  \"0 - optimal\"\n",
       "\n",
       "* Candidate solution (result #1)\n",
       "  Primal status      : FEASIBLE_POINT\n",
       "  Dual status        : FEASIBLE_POINT\n",
       "  Objective value    : 1.77000e+05\n",
       "\n",
       "* Work counters\n",
       "  Solve time (sec)   : 0.00000e+00\n"
      ]
     },
     "metadata": {},
     "output_type": "display_data"
    }
   ],
   "source": [
    "primal = Model(Clp.Optimizer)\n",
    "\n",
    "I = [i for i∈GU[:i]] #You tend to type the set names very often in models. \n",
    "J = [e for e∈GU[:j]] #pull out the symbols from the set j\n",
    "\n",
    "\"\"\"\n",
    "1. Here the variables macro is over kill since there is only one variable. Habit\n",
    "2. This is actually creating two variables, one for each element of J. You can\n",
    "   set bounds and even have the bounds come from other vectors.\n",
    "\"\"\"\n",
    "\n",
    "@variables(primal,begin\n",
    "    Y[J]>=0 #Production levels\n",
    "end)\n",
    "\n",
    "\"\"\"\n",
    ".* means coordinate wise multiplication, simplifies the syntax. I could have \n",
    "typed:\n",
    "\n",
    "sum(GU[:p][[j]]*Y[j] for j∈J)\n",
    "\n",
    "To get the ∈ I typed \\\\in (except with a single backslash) and pressed tab. \n",
    "\n",
    "\"∈\" is the same as \"=\" is the same as \"in\" in a loop\n",
    "\"\"\"\n",
    "\n",
    "@objective(primal, Max, sum(GU[:p][J].*Y[J])) \n",
    "\n",
    "\n",
    "\"\"\"\n",
    "1. This is how you define a vectorized constraint. After the constraint name\n",
    "   include, in brackets, the variable. In this case it's vectorized over I\n",
    "   and I'm going to use these as the name i\n",
    "\n",
    "2. Be careful with GamsParameters, if you want a single value you need more \n",
    "   brakets. So GU[:s][i] will give an error since i isn't a valid set in GU.\n",
    "   Each coordinate of GU[:s] is either a GamsSet, Symbol (like :i) or a list\n",
    "   of symbols. Examples below.\n",
    "\"\"\"\n",
    "\n",
    "@constraint(primal, supply[i = I], \n",
    "    sum(GU[:a][[i],J].*Y[J]) <= GU[:s][[i]] \n",
    ")\n",
    "\n",
    "optimize!(primal)\n",
    "\n",
    "solution_summary(primal)\n"
   ]
  },
  {
   "cell_type": "code",
   "execution_count": 4,
   "metadata": {},
   "outputs": [
    {
     "name": "stdout",
     "output_type": "stream",
     "text": [
      "Y[lager] -> 650.0\n",
      "Y[ale] -> 1100.0\n"
     ]
    }
   ],
   "source": [
    "for var in all_variables(primal)\n",
    "    println(\"$var -> $(value(var))\")\n",
    "end"
   ]
  },
  {
   "cell_type": "code",
   "execution_count": 5,
   "metadata": {},
   "outputs": [
    {
     "data": {
      "text/plain": [
       "1-dimensional DenseAxisArray{Float64,1,...} with index sets:\n",
       "    Dimension 1, [:malt, :yeast, :dehops, :wihops]\n",
       "And data, a 4-element Vector{Float64}:\n",
       " 4800.0\n",
       " 1750.0\n",
       "  650.0\n",
       " 1100.0"
      ]
     },
     "metadata": {},
     "output_type": "display_data"
    }
   ],
   "source": [
    "value.(primal[:supply]) #I'm surprised this worked."
   ]
  },
  {
   "attachments": {},
   "cell_type": "markdown",
   "metadata": {},
   "source": [
    "# Parameter Examples"
   ]
  },
  {
   "cell_type": "code",
   "execution_count": 6,
   "metadata": {},
   "outputs": [
    {
     "name": "stdout",
     "output_type": "stream",
     "text": [
      "Description: Supply by ingredient\n",
      "Domain: (:i,)\n",
      "\n"
     ]
    },
    {
     "data": {
      "text/plain": []
     },
     "metadata": {},
     "output_type": "display_data"
    },
    {
     "name": "stdout",
     "output_type": "stream",
     "text": [
      "[4800.0, 1750.0, 1000.0, 1750.0]"
     ]
    }
   ],
   "source": [
    "GU[:s] #The entire set, you can see the domain here"
   ]
  },
  {
   "cell_type": "code",
   "execution_count": 7,
   "metadata": {},
   "outputs": [
    {
     "data": {
      "text/plain": [
       "4-element Vector{Float64}:\n",
       " 4800.0\n",
       " 1750.0\n",
       " 1000.0\n",
       " 1750.0"
      ]
     },
     "metadata": {},
     "output_type": "display_data"
    }
   ],
   "source": [
    "GU[:s][:i] #Just the array of values"
   ]
  },
  {
   "cell_type": "code",
   "execution_count": 8,
   "metadata": {},
   "outputs": [
    {
     "data": {
      "text/plain": [
       "4800.0"
      ]
     },
     "metadata": {},
     "output_type": "display_data"
    }
   ],
   "source": [
    "GU[:s][[:malt]] # A single value"
   ]
  },
  {
   "cell_type": "code",
   "execution_count": 9,
   "metadata": {},
   "outputs": [
    {
     "data": {
      "text/plain": [
       "2-element Vector{Float64}:\n",
       " 4800.0\n",
       " 1750.0"
      ]
     },
     "metadata": {},
     "output_type": "display_data"
    }
   ],
   "source": [
    "GU[:s][[:malt,:yeast]] #Two values"
   ]
  },
  {
   "attachments": {},
   "cell_type": "markdown",
   "metadata": {},
   "source": [
    "# Primal Model"
   ]
  },
  {
   "cell_type": "code",
   "execution_count": 10,
   "metadata": {},
   "outputs": [
    {
     "name": "stdout",
     "output_type": "stream",
     "text": [
      "Coin0506I Presolve 2 (0) rows, 4 (0) columns and 6 (0) elements\n",
      "Clp0006I 0  Obj 0 Primal inf 75 (2)\n",
      "Clp0006I 2  Obj 177000\n",
      "Clp0000I Optimal - objective value 177000\n",
      "Clp0032I Optimal objective 177000 - 2 iterations time 0.002\n"
     ]
    },
    {
     "data": {
      "text/plain": [
       "* Solver : Clp\n",
       "\n",
       "* Status\n",
       "  Result count       : 1\n",
       "  Termination status : OPTIMAL\n",
       "  Message from the solver:\n",
       "  \"0 - optimal\"\n",
       "\n",
       "* Candidate solution (result #1)\n",
       "  Primal status      : FEASIBLE_POINT\n",
       "  Dual status        : FEASIBLE_POINT\n",
       "  Objective value    : 1.77000e+05\n",
       "\n",
       "* Work counters\n",
       "  Solve time (sec)   : 0.00000e+00\n"
      ]
     },
     "metadata": {},
     "output_type": "display_data"
    }
   ],
   "source": [
    "dual = Model(Clp.Optimizer)\n",
    "\n",
    "I = [i for i∈GU[:i]]\n",
    "J = [j for j∈GU[:j]]\n",
    "\n",
    "@variables(dual,begin\n",
    "    PI[I]>=0 #shadow price of ingredient i\n",
    "end)\n",
    "\n",
    "\n",
    "@objective(dual, Min, sum(PI[I].*GU[:s][I]))\n",
    "\n",
    "@constraint(dual, profit[j=J], sum(PI[I].*GU[:a][I,[j]]) >= GU[:p][[j]])\n",
    "\n",
    "optimize!(dual)\n",
    "\n",
    "solution_summary(dual)"
   ]
  },
  {
   "cell_type": "code",
   "execution_count": 11,
   "metadata": {},
   "outputs": [
    {
     "name": "stdout",
     "output_type": "stream",
     "text": [
      "PI[malt] -> 15.0\n",
      "PI[yeast] -> 60.0\n",
      "PI[dehops] -> 0.0\n",
      "PI[wihops] -> 0.0\n"
     ]
    }
   ],
   "source": [
    "for var ∈ all_variables(dual)\n",
    "    println(\"$var -> $(value(var))\")\n",
    "end"
   ]
  },
  {
   "cell_type": "code",
   "execution_count": 12,
   "metadata": {},
   "outputs": [
    {
     "data": {
      "text/plain": [
       "1-dimensional DenseAxisArray{Float64,1,...} with index sets:\n",
       "    Dimension 1, [:lager, :ale]\n",
       "And data, a 2-element Vector{Float64}:\n",
       " 120.0\n",
       "  90.0"
      ]
     },
     "metadata": {},
     "output_type": "display_data"
    }
   ],
   "source": [
    "value.(dual[:profit]) "
   ]
  },
  {
   "cell_type": "code",
   "execution_count": 13,
   "metadata": {},
   "outputs": [],
   "source": []
  },
  {
   "cell_type": "code",
   "execution_count": null,
   "metadata": {},
   "outputs": [],
   "source": []
  }
 ],
 "metadata": {
  "kernelspec": {
   "display_name": "Julia 1.8.0",
   "language": "julia",
   "name": "julia-1.8"
  },
  "language_info": {
   "file_extension": ".jl",
   "mimetype": "application/julia",
   "name": "julia",
   "version": "1.8.0"
  },
  "orig_nbformat": 4,
  "vscode": {
   "interpreter": {
    "hash": "ac97efbb835636f86a63c8ea0f697df920e29bf5635b42fc776c23a62298ea01"
   }
  }
 },
 "nbformat": 4,
 "nbformat_minor": 2
}
