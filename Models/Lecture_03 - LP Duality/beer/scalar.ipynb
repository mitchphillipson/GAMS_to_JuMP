{
 "cells": [
  {
   "attachments": {},
   "cell_type": "markdown",
   "metadata": {},
   "source": [
    "Step 1: Load packages"
   ]
  },
  {
   "cell_type": "code",
   "execution_count": 1,
   "metadata": {},
   "outputs": [],
   "source": [
    "using JuMP\n",
    "using Clp"
   ]
  },
  {
   "attachments": {},
   "cell_type": "markdown",
   "metadata": {},
   "source": [
    "Step 2: Defining a primal model\n",
    "\n",
    "I'll discuss each step in comments"
   ]
  },
  {
   "cell_type": "code",
   "execution_count": 2,
   "metadata": {},
   "outputs": [
    {
     "name": "stdout",
     "output_type": "stream",
     "text": [
      "Coin0506I Presolve 2 (0) rows, 2 (0) columns and 4 (0) elements\n",
      "Clp0006I 0  Obj 0 Dual inf 210 (2)\n",
      "Clp0006I 2  Obj 177000\n",
      "Clp0000I Optimal - objective value 177000\n",
      "Clp0032I Optimal objective 177000 - 2 iterations time 0.002\n"
     ]
    },
    {
     "data": {
      "text/plain": [
       "* Solver : Clp\n",
       "\n",
       "* Status\n",
       "  Result count       : 1\n",
       "  Termination status : OPTIMAL\n",
       "  Message from the solver:\n",
       "  \"0 - optimal\"\n",
       "\n",
       "* Candidate solution (result #1)\n",
       "  Primal status      : FEASIBLE_POINT\n",
       "  Dual status        : FEASIBLE_POINT\n",
       "  Objective value    : 1.77000e+05\n",
       "\n",
       "* Work counters\n",
       "  Solve time (sec)   : 0.00000e+00\n"
      ]
     },
     "metadata": {},
     "output_type": "display_data"
    }
   ],
   "source": [
    "\"\"\"\n",
    "Initialize the model and set the optimizer. In this case we are using Clp. \n",
    "To see all solvers JuMP supports visit here:\n",
    "\n",
    "https://jump.dev/JuMP.jl/stable/installation/#Supported-solvers\n",
    "\n",
    "Note: Some of these are just calls to C code and may be licensed. Clp and Ipopt\n",
    "are free.\n",
    "\"\"\"\n",
    "\n",
    "primal = Model(Clp.Optimizer)\n",
    "\n",
    "\"\"\"\n",
    "Initialize the variables with bounds. \n",
    "\n",
    "This is a macro, which is a Julia thing. Not important to understand 100% now, \n",
    "but it's good to know the words. \n",
    "\n",
    "This is a plural macro, it ends in s, which means it'll define multiple variables\n",
    "each on a new line. \n",
    "\n",
    "We could also do:\n",
    "\n",
    "@variable(primal,0<=X<=1000)\n",
    "@variable(primal, 0<=Y<=1750)\n",
    "\n",
    "but it's slightly more typing. Most Julia macros have this.\n",
    "\"\"\"\n",
    "\n",
    "@variables(primal,begin\n",
    "    0<=X<=1000 #productoin of lager\n",
    "    0<=Y<=1750 #production of ale\n",
    "end)\n",
    "\n",
    "\"\"\"\n",
    "Set up the objective function. In GAMS, the objective has a corresponding \n",
    "variable, not the case here.\n",
    "\n",
    "Instead of Max, we could have Min. But we're not minimizing...\n",
    "\"\"\"\n",
    "\n",
    "@objective(primal, Max, 120*X + 90*Y)\n",
    "\n",
    "\"\"\"\n",
    "Add the constrants. The second coordinate is the name of the contraint.\n",
    "\n",
    "There is a constraints macro, I use this in the dual verson.\n",
    "\"\"\"\n",
    "\n",
    "@constraint(primal,malt, 4*X+2*Y <= 4800)\n",
    "\n",
    "@constraint(primal, yeast, X+Y <=1750)\n",
    "\n",
    "\n",
    "\"\"\"\n",
    "Optmize the model. Notice the ! at the end of optimize. This is a Julia\n",
    "convention telling you that the input is changing. \n",
    "\"\"\"\n",
    "\n",
    "optimize!(primal)\n",
    "\n",
    "\"\"\"\n",
    "Optional, view the solution summary.\n",
    "\"\"\"\n",
    "\n",
    "solution_summary(primal)\n"
   ]
  },
  {
   "cell_type": "code",
   "execution_count": 3,
   "metadata": {},
   "outputs": [
    {
     "name": "stdout",
     "output_type": "stream",
     "text": [
      "X -> 650.0\n",
      "Y -> 1100.0\n"
     ]
    }
   ],
   "source": [
    "\"\"\"\n",
    "Just a quick and dirty way to view all the solutions. \n",
    "\n",
    "Notice the \\$ inside the string, this pulls the actual value, so\n",
    "\\$ var is replaced by the actual variable\n",
    "\"\"\"\n",
    "\n",
    "for var in all_variables(primal)\n",
    "    println(\"$var -> $(value(var))\")\n",
    "end"
   ]
  },
  {
   "cell_type": "code",
   "execution_count": 4,
   "metadata": {},
   "outputs": [
    {
     "name": "stdout",
     "output_type": "stream",
     "text": [
      "malt constraint value -> 4800.0\n",
      "yeast constraint value -> 1750.0\n"
     ]
    }
   ],
   "source": [
    "println(\"malt constraint value -> $(value(primal[:malt]))\")\n",
    "println(\"yeast constraint value -> $(value(primal[:yeast]))\")"
   ]
  },
  {
   "attachments": {},
   "cell_type": "markdown",
   "metadata": {},
   "source": [
    "# Dual\n",
    "\n",
    "Julia supports _any_ unicode character as a variable name. \n",
    "\n",
    "To get the fancy characters do this:\n",
    "\n",
    "\\lambda\n",
    "\n",
    "and press tab\n",
    "\n",
    "Subscripts are \n",
    "\n",
    "\\_number (tab)\n",
    "\n",
    "However, I hate typing lambda, so I'll use L instead of lambda"
   ]
  },
  {
   "cell_type": "code",
   "execution_count": 5,
   "metadata": {},
   "outputs": [
    {
     "name": "stdout",
     "output_type": "stream",
     "text": [
      "Coin0506I Presolve 2 (0) rows, 4 (0) columns and 6 (0) elements\n",
      "Clp0006I 0  Obj 0 Primal inf 75 (2)\n",
      "Clp0006I 3  Obj 177000\n",
      "Clp0000I Optimal - objective value 177000\n",
      "Clp0032I Optimal objective 177000 - 3 iterations time 0.002\n"
     ]
    },
    {
     "data": {
      "text/plain": [
       "* Solver : Clp\n",
       "\n",
       "* Status\n",
       "  Result count       : 1\n",
       "  Termination status : OPTIMAL\n",
       "  Message from the solver:\n",
       "  \"0 - optimal\"\n",
       "\n",
       "* Candidate solution (result #1)\n",
       "  Primal status      : FEASIBLE_POINT\n",
       "  Dual status        : FEASIBLE_POINT\n",
       "  Objective value    : 1.77000e+05\n",
       "\n",
       "* Work counters\n",
       "  Solve time (sec)   : 0.00000e+00\n"
      ]
     },
     "metadata": {},
     "output_type": "display_data"
    }
   ],
   "source": [
    "dual = Model(Clp.Optimizer)\n",
    "\n",
    "@variables(dual,begin\n",
    "    λ₁ >= 0\n",
    "    L2 >= 0\n",
    "    L3 >= 0\n",
    "    L4 >= 0\n",
    "end)\n",
    "\n",
    "@objective(dual,Min, 4800*λ₁ + 1750*L2 + 1000*L3 + 1500*L4)\n",
    "\n",
    "\n",
    "\"\"\"\n",
    "Here is the constraints macro. Each constraint is on a new line.\n",
    "\"\"\"\n",
    "\n",
    "@constraints(dual,begin\n",
    "    dualX, 4*λ₁ + 1*L2 + L3 + 0*L4 >= 120\n",
    "    dualY, 2*λ₁ + 1*L2 + 0*L3 + 1*L4 >= 90\n",
    "end)\n",
    "\n",
    "optimize!(dual)\n",
    "\n",
    "solution_summary(dual)"
   ]
  },
  {
   "cell_type": "code",
   "execution_count": 6,
   "metadata": {},
   "outputs": [
    {
     "name": "stdout",
     "output_type": "stream",
     "text": [
      "λ₁ -> 15.0\n",
      "L2 -> 60.0\n",
      "L3 -> 0.0\n",
      "L4 -> 0.0\n"
     ]
    }
   ],
   "source": [
    "for var in all_variables(dual)\n",
    "    println(\"$var -> $(value(var))\")\n",
    "end"
   ]
  },
  {
   "cell_type": "code",
   "execution_count": 7,
   "metadata": {},
   "outputs": [
    {
     "name": "stdout",
     "output_type": "stream",
     "text": [
      "dualX -> 120.0\n",
      "dualY -> 90.0\n"
     ]
    }
   ],
   "source": [
    "println(\"dualX -> $(value(dual[:dualX]))\")\n",
    "println(\"dualY -> $(value(dual[:dualY]))\")"
   ]
  },
  {
   "cell_type": "code",
   "execution_count": null,
   "metadata": {},
   "outputs": [],
   "source": []
  }
 ],
 "metadata": {
  "kernelspec": {
   "display_name": "Julia 1.8.0",
   "language": "julia",
   "name": "julia-1.8"
  },
  "language_info": {
   "file_extension": ".jl",
   "mimetype": "application/julia",
   "name": "julia",
   "version": "1.8.0"
  },
  "orig_nbformat": 4,
  "vscode": {
   "interpreter": {
    "hash": "ac97efbb835636f86a63c8ea0f697df920e29bf5635b42fc776c23a62298ea01"
   }
  }
 },
 "nbformat": 4,
 "nbformat_minor": 2
}
