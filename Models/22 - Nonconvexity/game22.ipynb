{
 "cells": [
  {
   "cell_type": "code",
   "execution_count": 1,
   "metadata": {},
   "outputs": [],
   "source": [
    "using JuMP\n",
    "using GLPK"
   ]
  },
  {
   "cell_type": "code",
   "execution_count": 2,
   "metadata": {},
   "outputs": [],
   "source": [
    "N0 = Symbol.(\"n\",0:12) #All nodes\n",
    "N = Symbol.(\"n\",1:12) #Nodes other than node 0\n",
    "P = 1:13 #Pieces\n",
    "T = Symbol.(\"t\",1:6); #Triangles\n",
    "\n",
    "tri = Dict()\n",
    "tri[:t1] = [:n1,:n3,:n4]\n",
    "tri[:t2] = [:n4,:n5,:n7]\n",
    "tri[:t3] = [:n7,:n10,:n11]\n",
    "tri[:t4] = [:n9,:n10,:n12]\n",
    "tri[:t5] = [:n6,:n8,:n9]\n",
    "tri[:t6] = [:n2,:n3,:n6]\n",
    "\n",
    "othersols = []\n",
    "1;"
   ]
  },
  {
   "cell_type": "code",
   "execution_count": 3,
   "metadata": {},
   "outputs": [
    {
     "data": {
      "text/plain": [
       "extract_solution (generic function with 1 method)"
      ]
     },
     "metadata": {},
     "output_type": "display_data"
    }
   ],
   "source": [
    "function game22(othersols)\n",
    "\n",
    "    ip = Model(GLPK.Optimizer)\n",
    "\n",
    "    @variable(ip,\n",
    "        Z[P,N0],Bin\n",
    "    )\n",
    "\n",
    "    @objective(ip,Max,0)\n",
    "\n",
    "    @constraints(ip,begin\n",
    "        used[p=P], sum(Z[p,n] for n∈N0) <= 1\n",
    "        filled[n=N0], sum(Z[p,n] for p∈P) == 1\n",
    "        linesum[t=T], sum(p*Z[p,n] for p∈P,n∈tri[t]) == 22\n",
    "        othsols[sol = othersols], sum(Z[p,n] for (n,p)∈sol)<=12\n",
    "    end)\n",
    "\n",
    "    fix(Z[1,:n0],1)\n",
    "\n",
    "    optimize!(ip)\n",
    "    return ip\n",
    "end\n",
    "\n",
    "function extract_solution(ip)\n",
    "\n",
    "    new_sol = []\n",
    "    for n∈N0,p∈P\n",
    "        if value(ip[:Z][p,n]) == 1\n",
    "            push!(new_sol,(n,p))\n",
    "        end\n",
    "    end\n",
    "    return new_sol\n",
    "end\n"
   ]
  },
  {
   "cell_type": "code",
   "execution_count": 10,
   "metadata": {},
   "outputs": [
    {
     "name": "stdout",
     "output_type": "stream",
     "text": [
      "1"
     ]
    },
    {
     "name": "stdout",
     "output_type": "stream",
     "text": [
      "\n",
      "2\n",
      "3\n"
     ]
    },
    {
     "name": "stdout",
     "output_type": "stream",
     "text": [
      "4\n",
      "5\n"
     ]
    },
    {
     "name": "stdout",
     "output_type": "stream",
     "text": [
      "6\n",
      "7\n",
      "8\n",
      "9"
     ]
    },
    {
     "name": "stdout",
     "output_type": "stream",
     "text": [
      "\n",
      "10"
     ]
    },
    {
     "name": "stdout",
     "output_type": "stream",
     "text": [
      "\n",
      "11"
     ]
    },
    {
     "name": "stdout",
     "output_type": "stream",
     "text": [
      "\n",
      "12"
     ]
    },
    {
     "name": "stdout",
     "output_type": "stream",
     "text": [
      "\n",
      "13"
     ]
    },
    {
     "name": "stdout",
     "output_type": "stream",
     "text": [
      "\n",
      "14\n"
     ]
    },
    {
     "name": "stdout",
     "output_type": "stream",
     "text": [
      "15\n"
     ]
    },
    {
     "name": "stdout",
     "output_type": "stream",
     "text": [
      "16\n",
      "17\n"
     ]
    },
    {
     "name": "stdout",
     "output_type": "stream",
     "text": [
      "18\n"
     ]
    },
    {
     "name": "stdout",
     "output_type": "stream",
     "text": [
      "19\n"
     ]
    },
    {
     "name": "stdout",
     "output_type": "stream",
     "text": [
      "20\n"
     ]
    },
    {
     "name": "stdout",
     "output_type": "stream",
     "text": [
      "21\n"
     ]
    },
    {
     "name": "stdout",
     "output_type": "stream",
     "text": [
      "22"
     ]
    },
    {
     "name": "stdout",
     "output_type": "stream",
     "text": [
      "\n",
      "23"
     ]
    },
    {
     "name": "stdout",
     "output_type": "stream",
     "text": [
      "\n",
      "24\n"
     ]
    },
    {
     "name": "stdout",
     "output_type": "stream",
     "text": [
      "25"
     ]
    },
    {
     "name": "stdout",
     "output_type": "stream",
     "text": [
      "\n"
     ]
    },
    {
     "name": "stdout",
     "output_type": "stream",
     "text": [
      "26\n",
      "27\n"
     ]
    },
    {
     "name": "stdout",
     "output_type": "stream",
     "text": [
      "28"
     ]
    },
    {
     "name": "stdout",
     "output_type": "stream",
     "text": [
      "\n",
      "29"
     ]
    },
    {
     "name": "stdout",
     "output_type": "stream",
     "text": [
      "\n",
      "30\n"
     ]
    },
    {
     "name": "stdout",
     "output_type": "stream",
     "text": [
      "31\n"
     ]
    },
    {
     "name": "stdout",
     "output_type": "stream",
     "text": [
      "32"
     ]
    },
    {
     "name": "stdout",
     "output_type": "stream",
     "text": [
      "\n",
      "33"
     ]
    },
    {
     "name": "stdout",
     "output_type": "stream",
     "text": [
      "\n",
      "34\n"
     ]
    },
    {
     "name": "stdout",
     "output_type": "stream",
     "text": [
      "35"
     ]
    },
    {
     "name": "stdout",
     "output_type": "stream",
     "text": [
      "\n",
      "36\n"
     ]
    },
    {
     "name": "stdout",
     "output_type": "stream",
     "text": [
      "37\n"
     ]
    },
    {
     "name": "stdout",
     "output_type": "stream",
     "text": [
      "38\n"
     ]
    },
    {
     "name": "stdout",
     "output_type": "stream",
     "text": [
      "39"
     ]
    },
    {
     "name": "stdout",
     "output_type": "stream",
     "text": [
      "\n",
      "40"
     ]
    },
    {
     "name": "stdout",
     "output_type": "stream",
     "text": [
      "\n",
      "41\n"
     ]
    },
    {
     "name": "stdout",
     "output_type": "stream",
     "text": [
      "42"
     ]
    },
    {
     "name": "stdout",
     "output_type": "stream",
     "text": [
      "\n",
      "43\n"
     ]
    },
    {
     "name": "stdout",
     "output_type": "stream",
     "text": [
      "44\n"
     ]
    },
    {
     "name": "stdout",
     "output_type": "stream",
     "text": [
      "45\n"
     ]
    },
    {
     "name": "stdout",
     "output_type": "stream",
     "text": [
      "46"
     ]
    },
    {
     "name": "stdout",
     "output_type": "stream",
     "text": [
      "\n",
      "47\n"
     ]
    },
    {
     "name": "stdout",
     "output_type": "stream",
     "text": [
      "48\n"
     ]
    },
    {
     "name": "stdout",
     "output_type": "stream",
     "text": [
      "49\n"
     ]
    },
    {
     "name": "stdout",
     "output_type": "stream",
     "text": [
      "50\n"
     ]
    }
   ],
   "source": [
    "othersols = []\n",
    "for i = 1:50\n",
    "    println(i)\n",
    "    ip = game22(othersols)\n",
    "    #extract_solution(ip)\n",
    "    push!(othersols,extract_solution(ip))\n",
    "end"
   ]
  },
  {
   "cell_type": "code",
   "execution_count": 11,
   "metadata": {},
   "outputs": [
    {
     "data": {
      "text/plain": [
       "50-element Vector{Any}:\n",
       " Any[(:n0, 1), (:n1, 3), (:n2, 13), (:n3, 7), (:n4, 12), (:n5, 6), (:n6, 2), (:n7, 4), (:n8, 11), (:n9, 9), (:n10, 8), (:n11, 10), (:n12, 5)]\n",
       " Any[(:n0, 1), (:n1, 5), (:n2, 11), (:n3, 9), (:n4, 8), (:n5, 10), (:n6, 2), (:n7, 4), (:n8, 13), (:n9, 7), (:n10, 12), (:n11, 6), (:n12, 3)]\n",
       " Any[(:n0, 1), (:n1, 10), (:n2, 12), (:n3, 8), (:n4, 4), (:n5, 5), (:n6, 2), (:n7, 13), (:n8, 11), (:n9, 9), (:n10, 6), (:n11, 3), (:n12, 7)]\n",
       " Any[(:n0, 1), (:n1, 3), (:n2, 11), (:n3, 9), (:n4, 10), (:n5, 7), (:n6, 2), (:n7, 5), (:n8, 8), (:n9, 12), (:n10, 4), (:n11, 13), (:n12, 6)]\n",
       " Any[(:n0, 1), (:n1, 5), (:n2, 11), (:n3, 9), (:n4, 8), (:n5, 10), (:n6, 2), (:n7, 4), (:n8, 7), (:n9, 13), (:n10, 6), (:n11, 12), (:n12, 3)]\n",
       " Any[(:n0, 1), (:n1, 7), (:n2, 11), (:n3, 9), (:n4, 6), (:n5, 3), (:n6, 2), (:n7, 13), (:n8, 12), (:n9, 8), (:n10, 4), (:n11, 5), (:n12, 10)]\n",
       " Any[(:n0, 1), (:n1, 6), (:n2, 8), (:n3, 12), (:n4, 4), (:n5, 13), (:n6, 2), (:n7, 5), (:n8, 11), (:n9, 9), (:n10, 10), (:n11, 7), (:n12, 3)]\n",
       " Any[(:n0, 1), (:n1, 3), (:n2, 7), (:n3, 13), (:n4, 6), (:n5, 12), (:n6, 2), (:n7, 4), (:n8, 11), (:n9, 9), (:n10, 8), (:n11, 10), (:n12, 5)]\n",
       " Any[(:n0, 1), (:n1, 10), (:n2, 13), (:n3, 4), (:n4, 8), (:n5, 2), (:n6, 5), (:n7, 12), (:n8, 11), (:n9, 6), (:n10, 7), (:n11, 3), (:n12, 9)]\n",
       " Any[(:n0, 1), (:n1, 6), (:n2, 13), (:n3, 4), (:n4, 12), (:n5, 8), (:n6, 5), (:n7, 2), (:n8, 7), (:n9, 10), (:n10, 9), (:n11, 11), (:n12, 3)]\n",
       " ⋮\n",
       " Any[(:n0, 1), (:n1, 6), (:n2, 3), (:n3, 12), (:n4, 4), (:n5, 10), (:n6, 7), (:n7, 8), (:n8, 13), (:n9, 2), (:n10, 9), (:n11, 5), (:n12, 11)]\n",
       " Any[(:n0, 1), (:n1, 12), (:n2, 3), (:n3, 6), (:n4, 4), (:n5, 10), (:n6, 13), (:n7, 8), (:n8, 7), (:n9, 2), (:n10, 9), (:n11, 5), (:n12, 11)]\n",
       " Any[(:n0, 1), (:n1, 10), (:n2, 5), (:n3, 8), (:n4, 4), (:n5, 6), (:n6, 9), (:n7, 12), (:n8, 11), (:n9, 2), (:n10, 7), (:n11, 3), (:n12, 13)]\n",
       " Any[(:n0, 1), (:n1, 10), (:n2, 5), (:n3, 8), (:n4, 4), (:n5, 12), (:n6, 9), (:n7, 6), (:n8, 11), (:n9, 2), (:n10, 13), (:n11, 3), (:n12, 7)]\n",
       " Any[(:n0, 1), (:n1, 5), (:n2, 10), (:n3, 4), (:n4, 13), (:n5, 3), (:n6, 8), (:n7, 6), (:n8, 12), (:n9, 2), (:n10, 9), (:n11, 7), (:n12, 11)]\n",
       " Any[(:n0, 1), (:n1, 11), (:n2, 2), (:n3, 8), (:n4, 3), (:n5, 9), (:n6, 12), (:n7, 10), (:n8, 6), (:n9, 4), (:n10, 5), (:n11, 7), (:n12, 13)]\n",
       " Any[(:n0, 1), (:n1, 11), (:n2, 9), (:n3, 3), (:n4, 8), (:n5, 2), (:n6, 10), (:n7, 12), (:n8, 7), (:n9, 5), (:n10, 4), (:n11, 6), (:n12, 13)]\n",
       " Any[(:n0, 1), (:n1, 11), (:n2, 5), (:n3, 9), (:n4, 2), (:n5, 13), (:n6, 8), (:n7, 7), (:n8, 10), (:n9, 4), (:n10, 12), (:n11, 3), (:n12, 6)]\n",
       " Any[(:n0, 1), (:n1, 11), (:n2, 7), (:n3, 9), (:n4, 2), (:n5, 12), (:n6, 6), (:n7, 8), (:n8, 3), (:n9, 13), (:n10, 4), (:n11, 10), (:n12, 5)]"
      ]
     },
     "metadata": {},
     "output_type": "display_data"
    }
   ],
   "source": [
    "othersols"
   ]
  },
  {
   "cell_type": "code",
   "execution_count": 77,
   "metadata": {},
   "outputs": [
    {
     "data": {
      "text/plain": [
       "3-element Vector{Any}:\n",
       " Any[(:n0, 1), (:n1, 3), (:n2, 13), (:n3, 7), (:n4, 12), (:n5, 6), (:n6, 2), (:n7, 4), (:n8, 11), (:n9, 9), (:n10, 8), (:n11, 10), (:n12, 5)]\n",
       " Any[(:n0, 1), (:n1, 5), (:n2, 11), (:n3, 9), (:n4, 8), (:n5, 10), (:n6, 2), (:n7, 4), (:n8, 13), (:n9, 7), (:n10, 12), (:n11, 6), (:n12, 3)]\n",
       " Any[(:n0, 1), (:n1, 10), (:n2, 12), (:n3, 8), (:n4, 4), (:n5, 5), (:n6, 2), (:n7, 13), (:n8, 11), (:n9, 9), (:n10, 6), (:n11, 3), (:n12, 7)]"
      ]
     },
     "metadata": {},
     "output_type": "display_data"
    }
   ],
   "source": [
    "new_sol = []\n",
    "for n∈N0,p∈P\n",
    "    if value(Z[p,n]) == 1\n",
    "        push!(new_sol,(n,p))\n",
    "    end\n",
    "end\n",
    "push!(othersols,new_sol)\n"
   ]
  },
  {
   "cell_type": "code",
   "execution_count": null,
   "metadata": {},
   "outputs": [],
   "source": []
  }
 ],
 "metadata": {
  "kernelspec": {
   "display_name": "Julia 1.9.2",
   "language": "julia",
   "name": "julia-1.9"
  },
  "language_info": {
   "file_extension": ".jl",
   "mimetype": "application/julia",
   "name": "julia",
   "version": "1.9.2"
  },
  "orig_nbformat": 4
 },
 "nbformat": 4,
 "nbformat_minor": 2
}
