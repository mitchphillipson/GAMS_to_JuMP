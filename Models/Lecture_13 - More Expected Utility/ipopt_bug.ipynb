{
 "cells": [
  {
   "cell_type": "code",
   "execution_count": 17,
   "metadata": {},
   "outputs": [
    {
     "data": {
      "text/plain": [
       "nash (generic function with 2 methods)"
      ]
     },
     "metadata": {},
     "output_type": "display_data"
    }
   ],
   "source": [
    "using JuMP\n",
    "using Ipopt\n",
    "using MadNLP\n",
    "\n",
    "\n",
    "GU = Dict(:pi => 0.01, \n",
    "          :L => 0.5, \n",
    "          :sigma => 0.9, \n",
    "          :kvalue => 0, \n",
    "          :nfirm => 1, \n",
    "          :rho => 0, \n",
    "          :gammamax => 0)\n",
    "\n",
    "GU[:rho] = 1-1/GU[:sigma]\n",
    "GU[:gammamax] = GU[:pi]*(1-GU[:L])^(-1/GU[:sigma]) / (GU[:pi] * (1-GU[:L])^(-1/GU[:sigma]) + 1 - GU[:pi])\n",
    "\n",
    "\n",
    "function nash(GU)\n",
    "    pi = GU[:pi]\n",
    "    L = GU[:L]\n",
    "    σ = GU[:sigma]\n",
    "    kvalue = GU[:kvalue]\n",
    "    nfirm = GU[:nfirm]\n",
    "    ρ = GU[:rho]\n",
    "    gammamax = GU[:gammamax]\n",
    "\n",
    "\n",
    "    m = Model()\n",
    "\n",
    "    @variables(m,begin\n",
    "         P_G>=1e-5, (start = 1-pi,)\t#Price index for consumption on a good day,\n",
    "\t\t P_B>=1e-5, (start = pi,)\t#Price index for consumption on a bad day,\n",
    "\t\t C_G, (start = 1-pi + pi*(1-L),)\t#Consumption in the good day,\n",
    "\t\t C_B, (start = 1-pi + pi*(1-L),)\t#Consumption in the bad day,\n",
    "\t\t P_C>=1e-5, (start = 1,)\t#Consumption price index,\n",
    "\t\t M, (start = 1-pi + pi*(1-L),)\t#Income,\n",
    "\t\t K>=0, (start = (1-pi + pi*(1-L) - (1-L))/(2*(1-pi)),)\t#Coverage\n",
    "\t\t0<=GAMMA<=gammamax, (start = gammamax/2,)\t#Premium for coverage\n",
    "    end)\n",
    "\n",
    "    fix(P_G,1-pi,force=true)\n",
    "\n",
    "    @NLobjective(m,Max,(GAMMA-pi)*(K-kvalue*(nfirm-1)/nfirm))\n",
    "\n",
    "    @NLconstraints(m,begin\n",
    "        income, M == P_G + P_B*(1-L)\n",
    "        P_Cdef, P_C == ( (1-pi) * (P_G/(1-pi))^(1-σ) + pi * (P_B/pi)^(1-σ) )^(1/(1-σ))\n",
    "        C_Gdef, C_G == M/P_C * (P_C*(1-pi)/P_G)^σ\n",
    "        C_Bdef, C_B == M/P_C * (P_C*pi/P_B)^σ\n",
    "        market_G, 1 == C_G + GAMMA*K\n",
    "        market_B, 1 - L + K == C_B + GAMMA*K\n",
    "        demand_K, GAMMA*(P_G+P_B) == P_B\n",
    "    end)\n",
    "\n",
    "\n",
    "    return m\n",
    "end"
   ]
  },
  {
   "cell_type": "code",
   "execution_count": 18,
   "metadata": {},
   "outputs": [
    {
     "data": {
      "text/plain": [
       "0.0001982506713799893"
      ]
     },
     "metadata": {},
     "output_type": "display_data"
    }
   ],
   "source": [
    "GU[:nfirm] = 2\n",
    "GU[:kvalue] = .5\n",
    "\n",
    "Nash_ipopt = nash(GU)\n",
    "\n",
    "solver = optimizer_with_attributes(Ipopt.Optimizer, \"tol\" => 1e-12)\n",
    "\n",
    "set_optimizer(Nash_ipopt,solver)\n",
    "set_silent(Nash_ipopt)\n",
    "\n",
    "#set_attribute(Nash_ipopt,\"tol\",1e-10)\n",
    "\n",
    "optimize!(Nash_ipopt)\n",
    "obj_ipopt = objective_value(Nash_ipopt)\n",
    "\n",
    "#Nash_mad = nash(GU,MadNLP.Optimizer)\n",
    "#set_silent(Nash_mad)\n",
    "#optimize!(Nash_mad)\n",
    "#obj_mad = objective_value(Nash_mad)\n",
    "\n",
    "#println(\"Ipopt Objective: $(obj_ipopt)\\nMad Objective: $(obj_mad)\")"
   ]
  },
  {
   "cell_type": "code",
   "execution_count": 21,
   "metadata": {},
   "outputs": [
    {
     "name": "stdout",
     "output_type": "stream",
     "text": [
      "P_G -> 0.99\n",
      "P_B -> 0.011587040684504972\n",
      "C_G -> 0.9956457740347624\n",
      "C_B -> 0.8720262854818974\n",
      "P_C -> 1.0014849157236008\n",
      "M -> 0.9957935203422524\n",
      "K -> 0.3763805114471349\n",
      "GAMMA -> 0.011568680717540202\n"
     ]
    }
   ],
   "source": [
    "for var in all_variables(Nash_ipopt)\n",
    "    println(\"$var -> $(value(var))\")\n",
    "end"
   ]
  },
  {
   "cell_type": "code",
   "execution_count": null,
   "metadata": {},
   "outputs": [],
   "source": []
  }
 ],
 "metadata": {
  "kernelspec": {
   "display_name": "Julia 1.8.0",
   "language": "julia",
   "name": "julia-1.8"
  },
  "language_info": {
   "file_extension": ".jl",
   "mimetype": "application/julia",
   "name": "julia",
   "version": "1.8.0"
  },
  "orig_nbformat": 4
 },
 "nbformat": 4,
 "nbformat_minor": 2
}
