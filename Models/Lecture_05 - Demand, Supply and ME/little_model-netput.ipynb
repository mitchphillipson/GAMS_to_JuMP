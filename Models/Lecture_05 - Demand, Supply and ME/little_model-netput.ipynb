{
 "cells": [
  {
   "cell_type": "code",
   "execution_count": 42,
   "metadata": {},
   "outputs": [],
   "source": [
    "using Complementarity\n",
    "using Suppressor"
   ]
  },
  {
   "cell_type": "code",
   "execution_count": 32,
   "metadata": {},
   "outputs": [
    {
     "data": {
      "text/plain": [
       "0.7142857142857143"
      ]
     },
     "metadata": {},
     "output_type": "display_data"
    }
   ],
   "source": [
    "ld0 = .6 #labor demand\n",
    "ls0 = .4 #Leisure demand\n",
    "le0 = ld0 + ls0 #Labor endowment\n",
    "fixed_le0 = le0 #We modify le0 for the shock, so store it to not change important info\n",
    "\n",
    "kd0 = .4 #captial demand\n",
    "ke0 = kd0 #Captial endowment\n",
    "\n",
    "sigma = .7 #Elasticity of substitution in production\n",
    "theta = ld0/(ld0+kd0) #Labor value share\n",
    "alpha = 1/(1+ls0) #Consumption value share"
   ]
  },
  {
   "cell_type": "code",
   "execution_count": 39,
   "metadata": {},
   "outputs": [
    {
     "data": {
      "text/plain": [
       "little_model (generic function with 1 method)"
      ]
     },
     "metadata": {},
     "output_type": "display_data"
    }
   ],
   "source": [
    "function little_model()\n",
    "\n",
    "    m = MCPModel()\n",
    "\n",
    "    @variables(m,begin\n",
    "        PL>=0, (start = 1,) #Wage rate\n",
    "        PK>=0, (start = 1,) #Return to capital\n",
    "        PY>=0, (start = 1,) #Output price\n",
    "        Y>=0,  (start = 1,) #Production\n",
    "        AY, (start = 1,)\n",
    "        AL, (start = -ld0,)\n",
    "        AK, (start = -kd0,)\n",
    "    end)\n",
    "\n",
    "\n",
    "    @NLexpression(m,C,(theta*PL^(1-sigma)+(1-theta)*PK^(1-sigma))^(1/(1-sigma)))\n",
    "\n",
    "\n",
    "\n",
    "    @NLexpression(m,DY,alpha*(PL*le0+PK*ke0)/PY)\n",
    "    @NLexpression(m,DL,(1-alpha)*(PL*le0+PK*ke0)/PL)\n",
    "    @NLexpression(m,DK,0)\n",
    "\n",
    "    @NLexpression(m,BY,0)\n",
    "    @NLexpression(m,BL,le0)\n",
    "    @NLexpression(m,BK,ke0)\n",
    "\n",
    "    @mapping(m,def_AY,AY - 1)\n",
    "    @mapping(m,def_AL,AL + ld0*(C/PL)^sigma)\n",
    "    @mapping(m,def_AK,AK + kd0*(C/PK)^sigma)\n",
    "\n",
    "    @mapping(m,profit, -PY*AY-PL*AL-PK*AK)\n",
    "\n",
    "    @mapping(m,marketY,BY+AY*Y - DY)\n",
    "    @mapping(m,marketK,BK+AK*Y - DK)\n",
    "    @mapping(m,marketL,BL+AL*Y - DL)\n",
    "\n",
    "    @complementarity(m,profit,Y)\n",
    "    @complementarity(m,marketY,PY)\n",
    "    @complementarity(m,marketK,PK)\n",
    "    @complementarity(m,marketL,PL)\n",
    "    @complementarity(m,def_AY,AY)\n",
    "    @complementarity(m,def_AL,AL)\n",
    "    @complementarity(m,def_AK,AK)\n",
    "\n",
    "\n",
    "\n",
    "    return m\n",
    "end\n"
   ]
  },
  {
   "cell_type": "code",
   "execution_count": 43,
   "metadata": {},
   "outputs": [
    {
     "name": "stdout",
     "output_type": "stream",
     "text": [
      "var_name\t value\t\t margin\n",
      "Y\t\t 1.0\t\t 0.0\n",
      "PY\t\t 1.0\t\t 0.0\n",
      "PK\t\t 1.0\t\t 0.0\n",
      "PL\t\t 1.0\t\t 0.0\n",
      "AY\t\t 1.0\t\t 0.0\n",
      "AL\t\t -0.6\t\t 0.0\n",
      "AK\t\t -0.4\t\t 0.0\n"
     ]
    }
   ],
   "source": [
    "le0 = fixed_le0\n",
    "benchmark = little_model()\n",
    "\n",
    "path_output = @capture_out solveMCP(benchmark, cumulative_iteration_limit = 0)\n",
    "print(generate_report(benchmark))"
   ]
  },
  {
   "cell_type": "code",
   "execution_count": 44,
   "metadata": {},
   "outputs": [
    {
     "name": "stdout",
     "output_type": "stream",
     "text": [
      "var_name\t value\t\t margin\n",
      "Y\t\t 1.0545\t\t -0.0\n",
      "PY\t\t 1.0\t\t 0.0\n",
      "PK\t\t 1.0787\t\t -0.0\n",
      "PL\t\t 0.9498\t\t -0.0\n",
      "AY\t\t 1.0\t\t 0.0\n",
      "AL\t\t -0.622\t\t 0.0\n",
      "AK\t\t -0.3793\t\t 0.0\n"
     ]
    }
   ],
   "source": [
    "le0 = 1.1*fixed_le0\n",
    "\n",
    "shock = little_model()\n",
    "\n",
    "fix(shock[:PY],1,force=true)\n",
    "path_output = @capture_out solveMCP(shock)\n",
    "\n",
    "print(generate_report(shock))"
   ]
  }
 ],
 "metadata": {
  "kernelspec": {
   "display_name": "Julia 1.8.0",
   "language": "julia",
   "name": "julia-1.8"
  },
  "language_info": {
   "file_extension": ".jl",
   "mimetype": "application/julia",
   "name": "julia",
   "version": "1.8.0"
  },
  "orig_nbformat": 4
 },
 "nbformat": 4,
 "nbformat_minor": 2
}
