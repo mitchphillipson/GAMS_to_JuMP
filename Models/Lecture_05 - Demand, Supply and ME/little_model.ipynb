{
 "cells": [
  {
   "cell_type": "code",
   "execution_count": 1,
   "metadata": {},
   "outputs": [],
   "source": [
    "using Complementarity"
   ]
  },
  {
   "cell_type": "markdown",
   "metadata": {},
   "source": []
  },
  {
   "cell_type": "code",
   "execution_count": 26,
   "metadata": {},
   "outputs": [
    {
     "data": {
      "text/plain": [
       "0.7142857142857143"
      ]
     },
     "metadata": {},
     "output_type": "display_data"
    }
   ],
   "source": [
    "ld0 = .6 #labor demand\n",
    "ls0 = .4 #Leisure demand\n",
    "le0 = ld0 + ls0 #Labor endowment\n",
    "fixed_le0 = le0 #We modify le0 for the shock, so store it to not change important info\n",
    "\n",
    "kd0 = .4 #captial demand\n",
    "ke0 = kd0 #Captial endowment\n",
    "\n",
    "sigma = .7 #Elasticity of substitution in production\n",
    "theta = ld0/(ld0+kd0) #Labor value share\n",
    "alpha = 1/(1+ls0) #Consumption value share"
   ]
  },
  {
   "cell_type": "code",
   "execution_count": 27,
   "metadata": {},
   "outputs": [
    {
     "data": {
      "text/plain": [
       "little_model (generic function with 1 method)"
      ]
     },
     "metadata": {},
     "output_type": "display_data"
    }
   ],
   "source": [
    "function little_model()\n",
    "\n",
    "    m = MCPModel()\n",
    "\n",
    "    @variables(m,begin\n",
    "        PL>=0, (start = 1,) #Wage rate\n",
    "        PK>=0, (start = 1,) #Return to capital\n",
    "        PY>=0, (start = 1,) #Output price\n",
    "        Y>=0,  (start = 1,) #Production\n",
    "    end)\n",
    "\n",
    "\n",
    "    @NLexpression(m,C,(theta*PL^(1-sigma)+(1-theta)*PK^(1-sigma))^(1/(1-sigma)))\n",
    "\n",
    "    @NLexpression(m,AY,1)\n",
    "    @NLexpression(m,AL,-ld0*(C/PL)^sigma)\n",
    "    @NLexpression(m,AK,-kd0*(C/PK)^sigma)\n",
    "\n",
    "    @NLexpression(m,DY,alpha*(PL*le0+PK*ke0)/PY)\n",
    "    @NLexpression(m,DL,(1-alpha)*(PL*le0+PK*ke0)/PL)\n",
    "    @NLexpression(m,DK,0)\n",
    "\n",
    "    @NLexpression(m,BY,0)\n",
    "    @NLexpression(m,BL,le0)\n",
    "    @NLexpression(m,BK,ke0)\n",
    "\n",
    "\n",
    "\n",
    "    @mapping(m,profit, -PY*AY-PL*AL-PK*AK)\n",
    "\n",
    "    @mapping(m,marketY,BY+AY*Y - DY)\n",
    "    @mapping(m,marketK,BK+AK*Y - DK)\n",
    "    @mapping(m,marketL,BL+AL*Y - DL)\n",
    "\n",
    "    @complementarity(m,profit,Y)\n",
    "    @complementarity(m,marketY,PY)\n",
    "    @complementarity(m,marketK,PK)\n",
    "    @complementarity(m,marketL,PL)\n",
    "\n",
    "\n",
    "    return m\n",
    "end\n"
   ]
  },
  {
   "attachments": {},
   "cell_type": "markdown",
   "metadata": {},
   "source": [
    "# Benchmark\n",
    "\n",
    "If the model is valid, all variables should have a value of 1. Which they do."
   ]
  },
  {
   "cell_type": "code",
   "execution_count": 28,
   "metadata": {},
   "outputs": [
    {
     "name": "stdout",
     "output_type": "stream",
     "text": [
      "Reading options file C:\\Users\\MPHILL~1\\AppData\\Local\\Temp\\jl_EAAC.tmp\n",
      " > cumulative_iteration_limit 0\n",
      "Read of options file complete.\n",
      "\n",
      "Path 5.0.03 (Fri Jun 26 10:05:33 2020)\n",
      "Written by Todd Munson, Steven Dirkse, Youngdae Kim, and Michael Ferris\n",
      "\n",
      "Major Iteration Log\n",
      "major minor  func  grad  residual    step  type prox    inorm  (label)\n",
      "    0     0     1     1 5.5511e-17           I 0.0e+00 5.6e-17 (marketL)\n",
      "\n",
      "Major Iterations. . . . 0\n",
      "Minor Iterations. . . . 0\n",
      "Restarts. . . . . . . . 0\n",
      "Crash Iterations. . . . 0\n",
      "Gradient Steps. . . . . 0\n",
      "Function Evaluations. . 1\n",
      "Gradient Evaluations. . 1\n",
      "Basis Time. . . . . . . 0.000000\n",
      "Total Time. . . . . . . 0.000000\n",
      "Residual. . . . . . . . 5.551115e-17\n",
      "var_name\t value\t\t margin\n",
      "Y\t\t 1.0\t\t 0.0\n",
      "PY\t\t 1.0\t\t 0.0\n",
      "PK\t\t 1.0\t\t 0.0\n",
      "PL\t\t 1.0\t\t 0.0\n"
     ]
    }
   ],
   "source": [
    "le0 = fixed_le0\n",
    "benchmark = little_model()\n",
    "\n",
    "solveMCP(benchmark, cumulative_iteration_limit = 0)\n",
    "print(generate_report(benchmark))"
   ]
  },
  {
   "attachments": {},
   "cell_type": "markdown",
   "metadata": {},
   "source": [
    "# Shock\n",
    "\n",
    "Modify one of the variables, in this case we'll increase le0 by a factor of 1.1. This will throw the data out of balance. The solutions represent a relative change in value. In this solution the prices for return to caption increase by a factor of 1.0787"
   ]
  },
  {
   "cell_type": "code",
   "execution_count": 30,
   "metadata": {},
   "outputs": [
    {
     "name": "stdout",
     "output_type": "stream",
     "text": [
      "Path 5.0.03 (Fri Jun 26 10:05:33 2020)\n",
      "Written by Todd Munson, Steven Dirkse, Youngdae Kim, and Michael Ferris\n",
      "Preprocessed size   : 3\n",
      "\n",
      "Crash Log\n",
      "major  func  diff  size  residual    step       prox   (label)\n",
      "    0     0             6.8881e-02             0.0e+00 (marketL)\n",
      "    1     1     0     3 2.9781e-03  1.0e+00    0.0e+00 (marketL)\n",
      "pn_search terminated: no basis change.\n",
      "\n",
      "Major Iteration Log\n",
      "major minor  func  grad  residual    step  type prox    inorm  (label)\n",
      "    0     0     2     2 2.9781e-03           I 0.0e+00 2.6e-03 (marketL)\n",
      "    1     1     3     3 5.9909e-06  1.0e+00 SO 0.0e+00 5.6e-06 (marketL)\n",
      "    2     1     4     4 2.8799e-11  1.0e+00 SO 0.0e+00 2.6e-11 (marketL)\n",
      "\n",
      "Major Iterations. . . . 2\n",
      "Minor Iterations. . . . 2\n",
      "Restarts. . . . . . . . 0\n",
      "Crash Iterations. . . . 1\n",
      "Gradient Steps. . . . . 0\n",
      "Function Evaluations. . 4\n",
      "Gradient Evaluations. . 4\n",
      "Basis Time. . . . . . . 0.000000\n",
      "Total Time. . . . . . . 0.000000\n",
      "Residual. . . . . . . . 2.879857e-11\n",
      "Postsolved residual: 2.8799e-11\n",
      "var_name\t value\t\t margin\n",
      "Y\t\t 1.0545\t\t -0.0\n",
      "PY\t\t 1.0\t\t 0.0\n",
      "PK\t\t 1.0787\t\t -0.0\n",
      "PL\t\t 0.9498\t\t -0.0\n"
     ]
    }
   ],
   "source": [
    "le0 = 1.1*fixed_le0\n",
    "\n",
    "shock = little_model()\n",
    "\n",
    "fix(shock[:PY],1,force=true)\n",
    "solveMCP(shock)\n",
    "\n",
    "print(generate_report(shock))"
   ]
  },
  {
   "cell_type": "code",
   "execution_count": null,
   "metadata": {},
   "outputs": [],
   "source": []
  }
 ],
 "metadata": {
  "kernelspec": {
   "display_name": "Julia 1.8.0",
   "language": "julia",
   "name": "julia-1.8"
  },
  "language_info": {
   "file_extension": ".jl",
   "mimetype": "application/julia",
   "name": "julia",
   "version": "1.8.0"
  },
  "orig_nbformat": 4,
  "vscode": {
   "interpreter": {
    "hash": "ac97efbb835636f86a63c8ea0f697df920e29bf5635b42fc776c23a62298ea01"
   }
  }
 },
 "nbformat": 4,
 "nbformat_minor": 2
}
