{
 "cells": [
  {
   "cell_type": "code",
   "execution_count": 1,
   "metadata": {},
   "outputs": [],
   "source": [
    "using JuMP\n",
    "using Ipopt\n",
    "using Complementarity\n",
    "using NamedArrays"
   ]
  },
  {
   "cell_type": "code",
   "execution_count": 49,
   "metadata": {},
   "outputs": [
    {
     "data": {
      "text/plain": [
       "4-element Named Vector{Float64}\n",
       "A  │ \n",
       "───┼───────\n",
       "a  │    2.0\n",
       "b  │    2.0\n",
       "c  │    4.0\n",
       "d  │ 1.0e99"
      ]
     },
     "metadata": {},
     "output_type": "display_data"
    }
   ],
   "source": [
    "T = [:a,:b,:c,:d]\n",
    "\n",
    "tech = NamedArray([2 2;5 2; 7 4; 10 1e99],(T,[:cost,:cap]))\n",
    "\n",
    "c = tech[:,:cost]\n",
    "k = tech[:,:cap]"
   ]
  },
  {
   "cell_type": "code",
   "execution_count": 50,
   "metadata": {},
   "outputs": [
    {
     "name": "stdout",
     "output_type": "stream",
     "text": [
      "This is Ipopt version 3.14.13, running with linear solver MUMPS 5.6.0.\n",
      "\n",
      "Number of nonzeros in equality constraint Jacobian...:       24\n",
      "Number of nonzeros in inequality constraint Jacobian.:        0\n",
      "Number of nonzeros in Lagrangian Hessian.............:        5\n",
      "\n",
      "Total number of variables............................:        8\n",
      "                     variables with only lower bounds:        5\n",
      "                variables with lower and upper bounds:        3\n",
      "                     variables with only upper bounds:        0\n",
      "Total number of equality constraints.................:        4\n",
      "Total number of inequality constraints...............:        0\n",
      "        inequality constraints with only lower bounds:        0\n",
      "   inequality constraints with lower and upper bounds:        0\n",
      "        inequality constraints with only upper bounds:        0\n",
      "\n",
      "iter    objective    inf_pr   inf_du lg(mu)  ||d||  lg(rg) alpha_du alpha_pr  ls\n",
      "   0  1.9999980e-02 9.97e+00 1.78e+00  -1.0 0.00e+00    -  0.00e+00 0.00e+00   0\n",
      "   1  1.4045799e-01 9.56e+00 3.60e+01  -1.0 9.02e+00    -  1.11e-03 4.18e-02f  1\n",
      "   2  2.5895730e-01 8.76e+00 3.30e+01  -1.0 9.04e+00    -  9.47e-02 8.36e-02f  1\n",
      "   3  8.1508176e-01 8.19e+00 3.09e+01  -1.0 8.55e+00    -  3.47e-02 6.52e-02f  1\n",
      "   4  1.6392293e+00 7.32e+00 1.16e+02  -1.0 7.83e+00    -  1.00e+00 1.06e-01f  1\n",
      "   5  7.9515102e+00 4.62e+00 3.03e+02  -1.0 1.71e+01    -  8.69e-02 3.68e-01f  1\n",
      "   6  8.0161530e+00 4.59e+00 2.67e+02  -1.0 1.03e+01    -  7.98e-02 6.20e-03h  1\n",
      "   7  1.1659934e+01 3.12e+00 1.30e+02  -1.0 3.61e+00    -  7.83e-03 1.00e+00f  1\n",
      "   8  1.2817237e+01 3.69e-01 3.45e+00  -1.0 1.14e+00    -  1.00e+00 1.00e+00h  1\n",
      "   9  1.2630344e+01 1.19e-02 1.40e+00  -1.0 3.71e-01    -  7.06e-01 1.00e+00h  1\n",
      "iter    objective    inf_pr   inf_du lg(mu)  ||d||  lg(rg) alpha_du alpha_pr  ls\n",
      "  10  1.3369698e+01 3.36e-01 8.35e-01  -1.0 6.94e+00    -  2.37e-01 5.18e-01f  1\n",
      "  11  1.3512257e+01 1.73e-01 1.21e-01  -1.7 1.80e+00    -  7.19e-01 1.00e+00h  1\n",
      "  12  1.3497739e+01 1.30e-02 3.23e-03  -2.5 3.68e-01    -  1.00e+00 1.00e+00h  1\n",
      "  13  1.3499538e+01 2.45e-07 2.82e-07  -3.8 8.41e-03    -  1.00e+00 1.00e+00h  1\n",
      "  14  1.3499995e+01 9.44e-10 1.02e-09  -5.7 3.37e-04    -  1.00e+00 1.00e+00h  1\n",
      "  15  1.3500000e+01 6.70e-14 1.26e-13  -8.6 4.56e-06    -  1.00e+00 1.00e+00h  1\n",
      "\n",
      "Number of Iterations....: 15\n",
      "\n",
      "                                   (scaled)                 (unscaled)\n",
      "Objective...............:  -1.3500000122479655e+01    1.3500000122479655e+01\n",
      "Dual infeasibility......:   1.2612133559741778e-13    1.2612133559741778e-13\n",
      "Constraint violation....:   6.6972574798517643e-14    6.6972574798517643e-14\n",
      "Variable bound violation:   1.9164316356068412e-08    1.9164316356068412e-08\n",
      "Complementarity.........:   2.5075239958988655e-09    2.5075239958988655e-09\n",
      "Overall NLP error.......:   2.5075239958988655e-09    2.5075239958988655e-09\n",
      "\n",
      "\n",
      "Number of objective function evaluations             = 16\n",
      "Number of objective gradient evaluations             = 16\n",
      "Number of equality constraint evaluations            = 16\n",
      "Number of inequality constraint evaluations          = 0\n",
      "Number of equality constraint Jacobian evaluations   = 16\n",
      "Number of inequality constraint Jacobian evaluations = 0\n",
      "Number of Lagrangian Hessian evaluations             = 15\n",
      "Total seconds in IPOPT                               = 0.005\n",
      "\n",
      "EXIT: Optimal Solution Found.\n"
     ]
    }
   ],
   "source": [
    "nlp_model = Model(Ipopt.Optimizer)\n",
    "\n",
    "@variables(nlp_model,begin\n",
    "    P>=0\n",
    "    PS>=0\n",
    "    CS>=0\n",
    "    S>=0 #I believe S is demand, or D\n",
    "    0<=Q[t=T]<=k[t]\n",
    "end)\n",
    "\n",
    "@objective(nlp_model,Max, CS+PS)\n",
    "\n",
    "@constraints(nlp_model,begin\n",
    "    price, P == 10-S*10/6\n",
    "    supply, S == sum(Q[t] for t∈T)\n",
    "    psurplus, PS == sum((P-c[t])*Q[t] for t∈T)\n",
    "    csurplus, CS == (10-P) * S/2\n",
    "end)\n",
    "\n",
    "optimize!(nlp_model)"
   ]
  },
  {
   "cell_type": "code",
   "execution_count": 51,
   "metadata": {},
   "outputs": [
    {
     "name": "stdout",
     "output_type": "stream",
     "text": [
      "P -> 5.000000000420054\n",
      "PS -> 6.000000123739848\n",
      "CS -> 7.499999998739806\n",
      "S -> 2.9999999997479683\n",
      "Q[a] -> 2.0000000191643164\n",
      "Q[b] -> 0.9999999988289247\n",
      "Q[c] -> -8.746564487890712e-9\n",
      "Q[d] -> -9.498708252884754e-9\n"
     ]
    }
   ],
   "source": [
    "for var in all_variables(nlp_model)\n",
    "    println(\"$var -> $(value(var))\")\n",
    "end"
   ]
  },
  {
   "cell_type": "code",
   "execution_count": 52,
   "metadata": {},
   "outputs": [],
   "source": []
  },
  {
   "cell_type": "code",
   "execution_count": 53,
   "metadata": {},
   "outputs": [
    {
     "name": "stdout",
     "output_type": "stream",
     "text": [
      "Path 5.0.03 (Fri Jun 26 10:05:33 2020)\n",
      "Written by Todd Munson, Steven Dirkse, Youngdae Kim, and Michael Ferris\n",
      "\n",
      "Crash Log\n",
      "major  func  diff  size  residual    step       prox   (label)\n",
      "    0     0             1.8868e+20             0.0e+00 (demand)\n",
      "    1     1     2     1 6.0000e+19  1.0e+00    0.0e+00 (market)\n",
      "pn_search terminated: no basis change.\n",
      "\n",
      "Major Iteration Log\n",
      "major minor  func  grad  residual    step  type prox    inorm  (label)\n",
      "    0     0     2     2 6.0000e+19           I 0.0e+00 6.0e+19 (market)\n",
      "    1     2     3     3 8.1980e+03  1.0e+00 SO 0.0e+00 8.2e+03 (demand)\n",
      "    2     4     4     4 4.4409e-16  1.0e+00 SO 0.0e+00 4.4e-16 (demand)\n",
      "\n",
      "Major Iterations. . . . 2\n",
      "Minor Iterations. . . . 6\n",
      "Restarts. . . . . . . . 0\n",
      "Crash Iterations. . . . 1\n",
      "Gradient Steps. . . . . 0\n",
      "Function Evaluations. . 4\n",
      "Gradient Evaluations. . 4\n",
      "Basis Time. . . . . . . 0.000000\n",
      "Total Time. . . . . . . 0.000000\n",
      "Residual. . . . . . . . 4.440892e-16\n"
     ]
    },
    {
     "data": {
      "text/plain": [
       ":Solved"
      ]
     },
     "metadata": {},
     "output_type": "display_data"
    }
   ],
   "source": [
    "mcp_model = MCPModel()\n",
    "\n",
    "@variables(mcp_model,begin\n",
    "    Q[t=T]>=0\n",
    "    RK[t=T]>=0\n",
    "    D\n",
    "    P\n",
    "end)\n",
    "\n",
    "@mapping(mcp_model, profit[t=T],\n",
    "    RK[t]+c[t] - P\n",
    ")\n",
    "\n",
    "@mapping(mcp_model, capacity[t=T],\n",
    "    k[t] - Q[t]\n",
    ")\n",
    "\n",
    "@mapping(mcp_model, demand, \n",
    "    D - (6*(1-P/10))\n",
    ")\n",
    "\n",
    "@mapping(mcp_model, market,\n",
    "    sum(Q[t] for t∈T) - D\n",
    ")\n",
    "\n",
    "@complementarity(mcp_model,profit,Q)\n",
    "@complementarity(mcp_model,capacity,RK)\n",
    "@complementarity(mcp_model,demand,D)\n",
    "@complementarity(mcp_model,market,P)\n",
    "\n",
    "solveMCP(mcp_model)\n"
   ]
  },
  {
   "cell_type": "code",
   "execution_count": 54,
   "metadata": {},
   "outputs": [
    {
     "name": "stdout",
     "output_type": "stream",
     "text": [
      "var_name\t value\t\t margin\n",
      "Q[a]\t\t 2.0\t\t 0.0\n",
      "Q[b]\t\t 1.0\t\t 0.0\n",
      "Q[c]\t\t 0.0\t\t 2.0\n",
      "Q[d]\t\t 0.0\t\t 5.0\n",
      "RK[a]\t\t 3.0\t\t 0.0\n",
      "RK[b]\t\t 0.0\t\t 1.0\n",
      "RK[c]\t\t 0.0\t\t 4.0\n",
      "RK[d]\t\t 0.0\t\t 1.0e99\n",
      "D\t\t 3.0\t\t -0.0\n",
      "P\t\t 5.0\t\t 0.0\n"
     ]
    }
   ],
   "source": [
    "print(generate_report(mcp_model))"
   ]
  },
  {
   "cell_type": "code",
   "execution_count": 55,
   "metadata": {},
   "outputs": [
    {
     "name": "stdout",
     "output_type": "stream",
     "text": [
      "P -> 5.000000000420054\n",
      "PS -> 6.000000123739848\n",
      "CS -> 7.499999998739806\n",
      "S -> 2.9999999997479683\n",
      "Q[a] -> 2.0000000191643164\n",
      "Q[b] -> 0.9999999988289247\n",
      "Q[c] -> -8.746564487890712e-9\n",
      "Q[d] -> -9.498708252884754e-9\n"
     ]
    }
   ],
   "source": [
    "for var in all_variables(nlp_model)\n",
    "    println(\"$var -> $(value(var))\")\n",
    "end"
   ]
  },
  {
   "cell_type": "code",
   "execution_count": 56,
   "metadata": {},
   "outputs": [
    {
     "name": "stdout",
     "output_type": "stream",
     "text": [
      "Q[a] -> 2.0\n",
      "Q[b] -> 0.9999999999999996\n",
      "Q[c] -> 0.0\n",
      "Q[d] -> 0.0\n",
      "RK[a] -> 3.0\n",
      "RK[b] -> 0.0\n",
      "RK[c] -> 0.0\n",
      "RK[d] -> 0.0\n",
      "D -> 2.9999999999999996\n",
      "P -> 5.0\n"
     ]
    }
   ],
   "source": [
    "for var in all_variables(mcp_model)\n",
    "    println(\"$var -> $(result_value(var))\")\n",
    "end"
   ]
  },
  {
   "cell_type": "code",
   "execution_count": 57,
   "metadata": {},
   "outputs": [],
   "source": [
    "@assert all(isapprox.(value.(nlp_model[:Q]),result_value.(mcp_model[:Q]);atol = 1e-7)) \"Q variable solutions do not match\"\n",
    "\n",
    "@assert value(nlp_model[:P]) ≈ result_value(mcp_model[:P]) \"P does not match\"\n",
    "\n",
    "@assert value(nlp_model[:S]) ≈ result_value(mcp_model[:D]) \"Demand doesn't match\"\n",
    "\n",
    "@assert result_value.(mcp_model[:RK]) .≈ [3,0,0,0] \"RK doesn't match\"\n",
    "\n",
    "println(\"GAMS gives RK as all zeros\")"
   ]
  },
  {
   "cell_type": "code",
   "execution_count": 58,
   "metadata": {},
   "outputs": [],
   "source": []
  },
  {
   "cell_type": "code",
   "execution_count": null,
   "metadata": {},
   "outputs": [],
   "source": []
  }
 ],
 "metadata": {
  "kernelspec": {
   "display_name": "Julia 1.9.2",
   "language": "julia",
   "name": "julia-1.9"
  },
  "language_info": {
   "file_extension": ".jl",
   "mimetype": "application/julia",
   "name": "julia",
   "version": "1.9.2"
  },
  "orig_nbformat": 4
 },
 "nbformat": 4,
 "nbformat_minor": 2
}
